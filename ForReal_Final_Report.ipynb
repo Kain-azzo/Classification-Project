{
 "cells": [
  {
   "cell_type": "markdown",
   "id": "5337f495",
   "metadata": {},
   "source": [
    "<span style=\"font-size: 24pt;\">Telco Churn Factors</span>\n",
    "\n",
    "\n",
    "\n"
   ]
  },
  {
   "cell_type": "markdown",
   "id": "f5162e53",
   "metadata": {},
   "source": [
    "<span style=\"font-size: 16pt\">Goal: To look at certain factors in the Telco dataset and determine if the impact churn</span>\n",
    "\n",
    "<span style=\"font-size: 16pt;\">I will also look at the factors that I took a personal interest in</span>"
   ]
  },
  {
   "cell_type": "code",
   "execution_count": null,
   "id": "03e8773f",
   "metadata": {},
   "outputs": [],
   "source": []
  },
  {
   "cell_type": "code",
   "execution_count": 79,
   "id": "1937face",
   "metadata": {},
   "outputs": [],
   "source": [
    "import pandas as pd\n",
    "import numpy as np\n",
    "\n",
    "import matplotlib.pyplot as plt\n",
    "import seaborn as sns\n",
    "from acquire import get_telco_data\n",
    "from prepare import chop_data,prep_telco,keep_cust_prep_telco, keep_cust_prep_telco\n",
    "from Exo import churners, gender_impact,senior_citizen_churn, security_impact, churner_mannwit,senior_mannwit\n",
    "from scipy import stats\n",
    "from sklearn.metrics import accuracy_score\n",
    "from sklearn.tree import DecisionTreeClassifier,export_text, plot_tree\n",
    "\n",
    "\n",
    "import warnings\n",
    "\n",
    "warnings.filterwarnings('ignore')"
   ]
  },
  {
   "cell_type": "markdown",
   "id": "b582fb16",
   "metadata": {},
   "source": [
    "<span style=\"font-size: 16pt;\">ACQUIRE<span>\n",
    "    \n",
    "    \n",
    "    \n",
    "    \n",
    "<span style=\"font-size: 16pt;\">access the telco dataset at kaggle here:<span> \n",
    "    \n",
    "    \n",
    "<span style=\"font-size: 16pt;\">https://www.kaggle.com/datasets/blastchar/telco-customer-churn<span>\n",
    "    \n",
    "<span style=\"font-size: 14pt;\">* Originally contained 20 columns and 7043 rows<span>\n",
    "    \n",
    "<span style=\"font-size: 14pt;\">* The columns were different characteristics of customers and factors that affected their billing<span>"
   ]
  },
  {
   "cell_type": "markdown",
   "id": "b5757bde",
   "metadata": {},
   "source": [
    "<span style=\"font-size: 16pt;\">PREPARE<span>\n",
    "    "
   ]
  },
  {
   "cell_type": "markdown",
   "id": "c3893a98",
   "metadata": {},
   "source": [
    "<table style=\"font-size: 18px;\">\n",
    "  <tr>\n",
    "    <th>Original Columns</th>\n",
    "    <th>Data Modifications</th>\n",
    "  </tr>\n",
    "  <tr>\n",
    "    <td>total_charges</td>\n",
    "    <td>changed to a float and replaced blank spaces</td>\n",
    "  </tr>\n",
    "  <tr>\n",
    "    <td>gender</td>\n",
    "    <td>changed to 1 or 0 representing gender/td>\n",
    "  </tr>\n",
    "  <tr>\n",
    "    <td>partner</td>\n",
    "    <td>changed to 1 or 0 representing single or not</td>\n",
    "  </tr>\n",
    "  <tr>\n",
    "    <td>dependents</td>\n",
    "    <td>changed to 1 or 0 representing whether or not have dependents</td>\n",
    "  </tr>\n",
    "  <tr>\n",
    "    <td>churn</td>\n",
    "    <td>changed to 1 or 0 representing whether person has discontinued their service</td>\n",
    "  </tr>\n",
    "  <tr>\n",
    "    <td>phone_service</td>\n",
    "    <td>changed to 1 or 0 representing whether person has phone service</td>\n",
    "  </tr>\n",
    "  <tr>\n",
    "    <td>multiple_lines</td>\n",
    "    <td>changed to 1 or 0 representing whether person has internet service</td>\n",
    "  </tr>\n",
    "  <tr>\n",
    "    <td>paperless_billing</td>\n",
    "    <td>changed to 1 or 0 representing whether person has paperless billing</td>\n",
    "  </tr>\n",
    "  <tr>\n",
    "    <td>internet_service_type</td>\n",
    "    <td>chna1 or 0 representing whether person has internet services</td>\n",
    "  </tr>\n",
    "  <tr>\n",
    "    <td>dropped and made dummies for 1 or 0</td>\n",
    "    <td>payment_type,contract_type</td>\n",
    "  <tr>\n",
    "    <td>merged to new columns for 1 or 0</td>\n",
    "    <td>streaming_movies,streaming_tv,tech_support</td>\n",
    "   \n",
    "    "
   ]
  },
  {
   "cell_type": "code",
   "execution_count": 77,
   "id": "db45faff",
   "metadata": {},
   "outputs": [],
   "source": [
    "base = prep_telco(get_telco_data) # Acquiring data and performing cleaning and encoding actions"
   ]
  },
  {
   "cell_type": "code",
   "execution_count": 61,
   "id": "520dcd14",
   "metadata": {},
   "outputs": [],
   "source": [
    "trained_telco,validated_telco,tested_telco = chop_data(base,\"churn\") #Separating data into train,validate,test"
   ]
  },
  {
   "cell_type": "markdown",
   "id": "02eaacbf",
   "metadata": {},
   "source": [
    "<span style=\"font-size: 16pt;\">Data preview can be seen here:<span> "
   ]
  },
  {
   "cell_type": "code",
   "execution_count": 51,
   "id": "70d45ca9",
   "metadata": {},
   "outputs": [
    {
     "data": {
      "text/html": [
       "<div>\n",
       "<style scoped>\n",
       "    .dataframe tbody tr th:only-of-type {\n",
       "        vertical-align: middle;\n",
       "    }\n",
       "\n",
       "    .dataframe tbody tr th {\n",
       "        vertical-align: top;\n",
       "    }\n",
       "\n",
       "    .dataframe thead th {\n",
       "        text-align: right;\n",
       "    }\n",
       "</style>\n",
       "<table border=\"1\" class=\"dataframe\">\n",
       "  <thead>\n",
       "    <tr style=\"text-align: right;\">\n",
       "      <th></th>\n",
       "      <th>gender</th>\n",
       "      <th>senior_citizen</th>\n",
       "      <th>partner</th>\n",
       "      <th>dependents</th>\n",
       "      <th>tenure</th>\n",
       "      <th>phone_service</th>\n",
       "      <th>multiple_lines</th>\n",
       "      <th>paperless_billing</th>\n",
       "      <th>monthly_charges</th>\n",
       "      <th>total_charges</th>\n",
       "      <th>churn</th>\n",
       "      <th>internet_service_type</th>\n",
       "      <th>security_backup</th>\n",
       "      <th>contract_type_Month-to-month</th>\n",
       "      <th>contract_type_One year</th>\n",
       "      <th>contract_type_Two year</th>\n",
       "      <th>payment_type_Bank transfer (automatic)</th>\n",
       "      <th>payment_type_Credit card (automatic)</th>\n",
       "      <th>payment_type_Electronic check</th>\n",
       "      <th>payment_type_Mailed check</th>\n",
       "    </tr>\n",
       "  </thead>\n",
       "  <tbody>\n",
       "    <tr>\n",
       "      <th>2865</th>\n",
       "      <td>1</td>\n",
       "      <td>1</td>\n",
       "      <td>1</td>\n",
       "      <td>0</td>\n",
       "      <td>38</td>\n",
       "      <td>1</td>\n",
       "      <td>1</td>\n",
       "      <td>0</td>\n",
       "      <td>95.00</td>\n",
       "      <td>3591.25</td>\n",
       "      <td>0</td>\n",
       "      <td>1</td>\n",
       "      <td>1</td>\n",
       "      <td>0</td>\n",
       "      <td>1</td>\n",
       "      <td>0</td>\n",
       "      <td>0</td>\n",
       "      <td>1</td>\n",
       "      <td>0</td>\n",
       "      <td>0</td>\n",
       "    </tr>\n",
       "    <tr>\n",
       "      <th>4107</th>\n",
       "      <td>1</td>\n",
       "      <td>1</td>\n",
       "      <td>0</td>\n",
       "      <td>0</td>\n",
       "      <td>2</td>\n",
       "      <td>1</td>\n",
       "      <td>0</td>\n",
       "      <td>1</td>\n",
       "      <td>70.35</td>\n",
       "      <td>139.05</td>\n",
       "      <td>1</td>\n",
       "      <td>1</td>\n",
       "      <td>0</td>\n",
       "      <td>1</td>\n",
       "      <td>0</td>\n",
       "      <td>0</td>\n",
       "      <td>0</td>\n",
       "      <td>0</td>\n",
       "      <td>1</td>\n",
       "      <td>0</td>\n",
       "    </tr>\n",
       "    <tr>\n",
       "      <th>3453</th>\n",
       "      <td>0</td>\n",
       "      <td>1</td>\n",
       "      <td>1</td>\n",
       "      <td>0</td>\n",
       "      <td>11</td>\n",
       "      <td>1</td>\n",
       "      <td>0</td>\n",
       "      <td>0</td>\n",
       "      <td>19.95</td>\n",
       "      <td>214.75</td>\n",
       "      <td>1</td>\n",
       "      <td>0</td>\n",
       "      <td>0</td>\n",
       "      <td>1</td>\n",
       "      <td>0</td>\n",
       "      <td>0</td>\n",
       "      <td>0</td>\n",
       "      <td>0</td>\n",
       "      <td>0</td>\n",
       "      <td>1</td>\n",
       "    </tr>\n",
       "    <tr>\n",
       "      <th>923</th>\n",
       "      <td>0</td>\n",
       "      <td>0</td>\n",
       "      <td>0</td>\n",
       "      <td>0</td>\n",
       "      <td>10</td>\n",
       "      <td>1</td>\n",
       "      <td>1</td>\n",
       "      <td>1</td>\n",
       "      <td>86.05</td>\n",
       "      <td>834.10</td>\n",
       "      <td>1</td>\n",
       "      <td>1</td>\n",
       "      <td>0</td>\n",
       "      <td>1</td>\n",
       "      <td>0</td>\n",
       "      <td>0</td>\n",
       "      <td>1</td>\n",
       "      <td>0</td>\n",
       "      <td>0</td>\n",
       "      <td>0</td>\n",
       "    </tr>\n",
       "    <tr>\n",
       "      <th>2370</th>\n",
       "      <td>0</td>\n",
       "      <td>0</td>\n",
       "      <td>0</td>\n",
       "      <td>0</td>\n",
       "      <td>43</td>\n",
       "      <td>1</td>\n",
       "      <td>0</td>\n",
       "      <td>1</td>\n",
       "      <td>60.00</td>\n",
       "      <td>2548.55</td>\n",
       "      <td>0</td>\n",
       "      <td>1</td>\n",
       "      <td>1</td>\n",
       "      <td>0</td>\n",
       "      <td>0</td>\n",
       "      <td>1</td>\n",
       "      <td>0</td>\n",
       "      <td>0</td>\n",
       "      <td>1</td>\n",
       "      <td>0</td>\n",
       "    </tr>\n",
       "  </tbody>\n",
       "</table>\n",
       "</div>"
      ],
      "text/plain": [
       "      gender  senior_citizen  partner  dependents  tenure  phone_service  \\\n",
       "2865       1               1        1           0      38              1   \n",
       "4107       1               1        0           0       2              1   \n",
       "3453       0               1        1           0      11              1   \n",
       "923        0               0        0           0      10              1   \n",
       "2370       0               0        0           0      43              1   \n",
       "\n",
       "      multiple_lines  paperless_billing  monthly_charges  total_charges  \\\n",
       "2865               1                  0            95.00        3591.25   \n",
       "4107               0                  1            70.35         139.05   \n",
       "3453               0                  0            19.95         214.75   \n",
       "923                1                  1            86.05         834.10   \n",
       "2370               0                  1            60.00        2548.55   \n",
       "\n",
       "      churn  internet_service_type  security_backup  \\\n",
       "2865      0                      1                1   \n",
       "4107      1                      1                0   \n",
       "3453      1                      0                0   \n",
       "923       1                      1                0   \n",
       "2370      0                      1                1   \n",
       "\n",
       "      contract_type_Month-to-month  contract_type_One year  \\\n",
       "2865                             0                       1   \n",
       "4107                             1                       0   \n",
       "3453                             1                       0   \n",
       "923                              1                       0   \n",
       "2370                             0                       0   \n",
       "\n",
       "      contract_type_Two year  payment_type_Bank transfer (automatic)  \\\n",
       "2865                       0                                       0   \n",
       "4107                       0                                       0   \n",
       "3453                       0                                       0   \n",
       "923                        0                                       1   \n",
       "2370                       1                                       0   \n",
       "\n",
       "      payment_type_Credit card (automatic)  payment_type_Electronic check  \\\n",
       "2865                                     1                              0   \n",
       "4107                                     0                              1   \n",
       "3453                                     0                              0   \n",
       "923                                      0                              0   \n",
       "2370                                     0                              1   \n",
       "\n",
       "      payment_type_Mailed check  \n",
       "2865                          0  \n",
       "4107                          0  \n",
       "3453                          1  \n",
       "923                           0  \n",
       "2370                          0  "
      ]
     },
     "execution_count": 51,
     "metadata": {},
     "output_type": "execute_result"
    }
   ],
   "source": [
    "trained_telco.head(5)"
   ]
  },
  {
   "cell_type": "markdown",
   "id": "eddce4b5",
   "metadata": {},
   "source": [
    "<span style=\"font-size: 24pt;\">Data Dictionary</span>"
   ]
  },
  {
   "cell_type": "markdown",
   "id": "e2e16d02",
   "metadata": {},
   "source": [
    "<table style=\"font-size: 18px;\">\n",
    "  <tr>\n",
    "    <th>Characteristic</th>\n",
    "    <th>Data Type</th>\n",
    "  </tr>\n",
    "  <tr>\n",
    "    <td>gender</td>\n",
    "    <td>1 or 0 representing gender</td>\n",
    "  </tr>\n",
    "  <tr>\n",
    "    <td>senior_citizen</td>\n",
    "    <td>1 or 0 representing senior status</td>\n",
    "  </tr>\n",
    "  <tr>\n",
    "    <td>partner</td>\n",
    "    <td>1 or 0 representing single or not</td>\n",
    "  </tr>\n",
    "  <tr>\n",
    "    <td>dependents</td>\n",
    "    <td>1 or 0 representing whether or not have dependents</td>\n",
    "  </tr>\n",
    "  <tr>\n",
    "    <td>tenure</td>\n",
    "    <td>int describing period of subscription in months</td>\n",
    "  </tr>\n",
    "  <tr>\n",
    "    <td>phone_service</td>\n",
    "    <td>1 or 0 representing whether person has phone service</td>\n",
    "  </tr>\n",
    "  <tr>\n",
    "    <td>multiple_lines</td>\n",
    "    <td>1 or 0 representing whether person has internet service</td>\n",
    "  </tr>\n",
    "  <tr>\n",
    "    <td>paperless_billing</td>\n",
    "    <td>1 or 0 representing whether person has paperless billing</td>\n",
    "  </tr>\n",
    "  <tr>\n",
    "    <td>monthly_charges</td>\n",
    "    <td>int describing monthly charges</td>\n",
    "  </tr>\n",
    "  <tr>\n",
    "    <td>total_charges</td>\n",
    "    <td>int describing monthly charges</td>\n",
    "  </tr>\n",
    "  <tr>\n",
    "    <td>churn</td>\n",
    "    <td>1 or 0 representing whether person has kept services or discontinued them</td>\n",
    "  </tr>\n",
    "  <tr>\n",
    "    <td>internet_service_type</td>\n",
    "    <td>1 or 0 representing whether person has internet services</td>\n",
    "  </tr>\n",
    "  <tr>\n",
    "    <td>security_backup</td>\n",
    "    <td>1 or 0 representing whether person has internet services</td>\n"
   ]
  },
  {
   "cell_type": "code",
   "execution_count": null,
   "id": "9275d6f4",
   "metadata": {},
   "outputs": [],
   "source": []
  },
  {
   "cell_type": "markdown",
   "id": "2dc963a0",
   "metadata": {},
   "source": [
    "# Function Definitions\n",
    "\n",
    "\n",
    "\n",
    "## get_telco_data\n",
    "**Purpose:** Retrieves telco dataframe from the Codeup database.\n",
    "\n",
    "## prep_telco\n",
    "**Purpose:** Prepares and encodes the dataframe.\n",
    "\n",
    "## chop_data\n",
    "**Purpose:** Turns into datasets train,vaildate,test.\n",
    "\n",
    "## keep_cust_prep_telco\n",
    "**Purpose:** Keeps customer ID on dataframe for Prediction file.\n",
    "\n",
    "## churners\n",
    "**Purpose:** Tells whether monthly charges are a driver of churn.\n",
    "\n",
    "## gender_impact\n",
    "**Purpose:** Tells whether gender is a driver of churn.\n",
    "\n",
    "## security_impact\n",
    "**Purpose:** Tells whether gender impacts purchases of security bundles.\n",
    "\n",
    "## senior_citizen_churn\n",
    "**Purpose:** Tells whether age is a driver of churn.\n",
    "\n",
    "## churner_mannwit\n",
    "**Purpose:** Runs mannwhitney test to determine p_value.\n",
    "\n",
    "## senior_mannwit\n",
    "**Purpose:** Runs mannwhitney test to determine p_value."
   ]
  },
  {
   "cell_type": "code",
   "execution_count": 64,
   "id": "c915c394",
   "metadata": {},
   "outputs": [
    {
     "data": {
      "text/html": [
       "<div>\n",
       "<style scoped>\n",
       "    .dataframe tbody tr th:only-of-type {\n",
       "        vertical-align: middle;\n",
       "    }\n",
       "\n",
       "    .dataframe tbody tr th {\n",
       "        vertical-align: top;\n",
       "    }\n",
       "\n",
       "    .dataframe thead th {\n",
       "        text-align: right;\n",
       "    }\n",
       "</style>\n",
       "<table border=\"1\" class=\"dataframe\">\n",
       "  <thead>\n",
       "    <tr style=\"text-align: right;\">\n",
       "      <th></th>\n",
       "      <th>gender</th>\n",
       "      <th>senior_citizen</th>\n",
       "      <th>partner</th>\n",
       "      <th>dependents</th>\n",
       "      <th>tenure</th>\n",
       "      <th>phone_service</th>\n",
       "      <th>multiple_lines</th>\n",
       "      <th>paperless_billing</th>\n",
       "      <th>monthly_charges</th>\n",
       "      <th>total_charges</th>\n",
       "      <th>churn</th>\n",
       "      <th>internet_service_type</th>\n",
       "      <th>security_backup</th>\n",
       "      <th>contract_type_Month-to-month</th>\n",
       "      <th>contract_type_One year</th>\n",
       "      <th>contract_type_Two year</th>\n",
       "      <th>payment_type_Bank transfer (automatic)</th>\n",
       "      <th>payment_type_Credit card (automatic)</th>\n",
       "      <th>payment_type_Electronic check</th>\n",
       "      <th>payment_type_Mailed check</th>\n",
       "    </tr>\n",
       "  </thead>\n",
       "  <tbody>\n",
       "    <tr>\n",
       "      <th>count</th>\n",
       "      <td>4225.000000</td>\n",
       "      <td>4225.000000</td>\n",
       "      <td>4225.000000</td>\n",
       "      <td>4225.000000</td>\n",
       "      <td>4225.000000</td>\n",
       "      <td>4225.000000</td>\n",
       "      <td>4225.000000</td>\n",
       "      <td>4225.000000</td>\n",
       "      <td>4225.000000</td>\n",
       "      <td>4225.000000</td>\n",
       "      <td>4225.000000</td>\n",
       "      <td>4225.000000</td>\n",
       "      <td>4225.000000</td>\n",
       "      <td>4225.000000</td>\n",
       "      <td>4225.000000</td>\n",
       "      <td>4225.000000</td>\n",
       "      <td>4225.000000</td>\n",
       "      <td>4225.000000</td>\n",
       "      <td>4225.000000</td>\n",
       "      <td>4225.000000</td>\n",
       "    </tr>\n",
       "    <tr>\n",
       "      <th>mean</th>\n",
       "      <td>0.499172</td>\n",
       "      <td>0.164260</td>\n",
       "      <td>0.488757</td>\n",
       "      <td>0.299172</td>\n",
       "      <td>32.650178</td>\n",
       "      <td>0.906746</td>\n",
       "      <td>0.428639</td>\n",
       "      <td>0.593373</td>\n",
       "      <td>65.138947</td>\n",
       "      <td>2305.884888</td>\n",
       "      <td>0.265325</td>\n",
       "      <td>0.782722</td>\n",
       "      <td>0.473136</td>\n",
       "      <td>0.552663</td>\n",
       "      <td>0.208047</td>\n",
       "      <td>0.239290</td>\n",
       "      <td>0.221302</td>\n",
       "      <td>0.217988</td>\n",
       "      <td>0.339408</td>\n",
       "      <td>0.221302</td>\n",
       "    </tr>\n",
       "    <tr>\n",
       "      <th>std</th>\n",
       "      <td>0.500058</td>\n",
       "      <td>0.370556</td>\n",
       "      <td>0.499933</td>\n",
       "      <td>0.457949</td>\n",
       "      <td>24.647481</td>\n",
       "      <td>0.290823</td>\n",
       "      <td>0.494940</td>\n",
       "      <td>0.491262</td>\n",
       "      <td>30.336884</td>\n",
       "      <td>2282.408946</td>\n",
       "      <td>0.441559</td>\n",
       "      <td>0.412442</td>\n",
       "      <td>0.499337</td>\n",
       "      <td>0.497278</td>\n",
       "      <td>0.405959</td>\n",
       "      <td>0.426701</td>\n",
       "      <td>0.415172</td>\n",
       "      <td>0.412928</td>\n",
       "      <td>0.473565</td>\n",
       "      <td>0.415172</td>\n",
       "    </tr>\n",
       "    <tr>\n",
       "      <th>min</th>\n",
       "      <td>0.000000</td>\n",
       "      <td>0.000000</td>\n",
       "      <td>0.000000</td>\n",
       "      <td>0.000000</td>\n",
       "      <td>0.000000</td>\n",
       "      <td>0.000000</td>\n",
       "      <td>0.000000</td>\n",
       "      <td>0.000000</td>\n",
       "      <td>18.250000</td>\n",
       "      <td>0.000000</td>\n",
       "      <td>0.000000</td>\n",
       "      <td>0.000000</td>\n",
       "      <td>0.000000</td>\n",
       "      <td>0.000000</td>\n",
       "      <td>0.000000</td>\n",
       "      <td>0.000000</td>\n",
       "      <td>0.000000</td>\n",
       "      <td>0.000000</td>\n",
       "      <td>0.000000</td>\n",
       "      <td>0.000000</td>\n",
       "    </tr>\n",
       "    <tr>\n",
       "      <th>25%</th>\n",
       "      <td>0.000000</td>\n",
       "      <td>0.000000</td>\n",
       "      <td>0.000000</td>\n",
       "      <td>0.000000</td>\n",
       "      <td>9.000000</td>\n",
       "      <td>1.000000</td>\n",
       "      <td>0.000000</td>\n",
       "      <td>0.000000</td>\n",
       "      <td>35.400000</td>\n",
       "      <td>408.250000</td>\n",
       "      <td>0.000000</td>\n",
       "      <td>1.000000</td>\n",
       "      <td>0.000000</td>\n",
       "      <td>0.000000</td>\n",
       "      <td>0.000000</td>\n",
       "      <td>0.000000</td>\n",
       "      <td>0.000000</td>\n",
       "      <td>0.000000</td>\n",
       "      <td>0.000000</td>\n",
       "      <td>0.000000</td>\n",
       "    </tr>\n",
       "    <tr>\n",
       "      <th>50%</th>\n",
       "      <td>0.000000</td>\n",
       "      <td>0.000000</td>\n",
       "      <td>0.000000</td>\n",
       "      <td>0.000000</td>\n",
       "      <td>29.000000</td>\n",
       "      <td>1.000000</td>\n",
       "      <td>0.000000</td>\n",
       "      <td>1.000000</td>\n",
       "      <td>70.550000</td>\n",
       "      <td>1389.350000</td>\n",
       "      <td>0.000000</td>\n",
       "      <td>1.000000</td>\n",
       "      <td>0.000000</td>\n",
       "      <td>1.000000</td>\n",
       "      <td>0.000000</td>\n",
       "      <td>0.000000</td>\n",
       "      <td>0.000000</td>\n",
       "      <td>0.000000</td>\n",
       "      <td>0.000000</td>\n",
       "      <td>0.000000</td>\n",
       "    </tr>\n",
       "    <tr>\n",
       "      <th>75%</th>\n",
       "      <td>1.000000</td>\n",
       "      <td>0.000000</td>\n",
       "      <td>1.000000</td>\n",
       "      <td>1.000000</td>\n",
       "      <td>56.000000</td>\n",
       "      <td>1.000000</td>\n",
       "      <td>1.000000</td>\n",
       "      <td>1.000000</td>\n",
       "      <td>90.400000</td>\n",
       "      <td>3886.450000</td>\n",
       "      <td>1.000000</td>\n",
       "      <td>1.000000</td>\n",
       "      <td>1.000000</td>\n",
       "      <td>1.000000</td>\n",
       "      <td>0.000000</td>\n",
       "      <td>0.000000</td>\n",
       "      <td>0.000000</td>\n",
       "      <td>0.000000</td>\n",
       "      <td>1.000000</td>\n",
       "      <td>0.000000</td>\n",
       "    </tr>\n",
       "    <tr>\n",
       "      <th>max</th>\n",
       "      <td>1.000000</td>\n",
       "      <td>1.000000</td>\n",
       "      <td>1.000000</td>\n",
       "      <td>1.000000</td>\n",
       "      <td>72.000000</td>\n",
       "      <td>1.000000</td>\n",
       "      <td>1.000000</td>\n",
       "      <td>1.000000</td>\n",
       "      <td>118.750000</td>\n",
       "      <td>8672.450000</td>\n",
       "      <td>1.000000</td>\n",
       "      <td>1.000000</td>\n",
       "      <td>1.000000</td>\n",
       "      <td>1.000000</td>\n",
       "      <td>1.000000</td>\n",
       "      <td>1.000000</td>\n",
       "      <td>1.000000</td>\n",
       "      <td>1.000000</td>\n",
       "      <td>1.000000</td>\n",
       "      <td>1.000000</td>\n",
       "    </tr>\n",
       "  </tbody>\n",
       "</table>\n",
       "</div>"
      ],
      "text/plain": [
       "            gender  senior_citizen      partner   dependents       tenure  \\\n",
       "count  4225.000000     4225.000000  4225.000000  4225.000000  4225.000000   \n",
       "mean      0.499172        0.164260     0.488757     0.299172    32.650178   \n",
       "std       0.500058        0.370556     0.499933     0.457949    24.647481   \n",
       "min       0.000000        0.000000     0.000000     0.000000     0.000000   \n",
       "25%       0.000000        0.000000     0.000000     0.000000     9.000000   \n",
       "50%       0.000000        0.000000     0.000000     0.000000    29.000000   \n",
       "75%       1.000000        0.000000     1.000000     1.000000    56.000000   \n",
       "max       1.000000        1.000000     1.000000     1.000000    72.000000   \n",
       "\n",
       "       phone_service  multiple_lines  paperless_billing  monthly_charges  \\\n",
       "count    4225.000000     4225.000000        4225.000000      4225.000000   \n",
       "mean        0.906746        0.428639           0.593373        65.138947   \n",
       "std         0.290823        0.494940           0.491262        30.336884   \n",
       "min         0.000000        0.000000           0.000000        18.250000   \n",
       "25%         1.000000        0.000000           0.000000        35.400000   \n",
       "50%         1.000000        0.000000           1.000000        70.550000   \n",
       "75%         1.000000        1.000000           1.000000        90.400000   \n",
       "max         1.000000        1.000000           1.000000       118.750000   \n",
       "\n",
       "       total_charges        churn  internet_service_type  security_backup  \\\n",
       "count    4225.000000  4225.000000            4225.000000      4225.000000   \n",
       "mean     2305.884888     0.265325               0.782722         0.473136   \n",
       "std      2282.408946     0.441559               0.412442         0.499337   \n",
       "min         0.000000     0.000000               0.000000         0.000000   \n",
       "25%       408.250000     0.000000               1.000000         0.000000   \n",
       "50%      1389.350000     0.000000               1.000000         0.000000   \n",
       "75%      3886.450000     1.000000               1.000000         1.000000   \n",
       "max      8672.450000     1.000000               1.000000         1.000000   \n",
       "\n",
       "       contract_type_Month-to-month  contract_type_One year  \\\n",
       "count                   4225.000000             4225.000000   \n",
       "mean                       0.552663                0.208047   \n",
       "std                        0.497278                0.405959   \n",
       "min                        0.000000                0.000000   \n",
       "25%                        0.000000                0.000000   \n",
       "50%                        1.000000                0.000000   \n",
       "75%                        1.000000                0.000000   \n",
       "max                        1.000000                1.000000   \n",
       "\n",
       "       contract_type_Two year  payment_type_Bank transfer (automatic)  \\\n",
       "count             4225.000000                             4225.000000   \n",
       "mean                 0.239290                                0.221302   \n",
       "std                  0.426701                                0.415172   \n",
       "min                  0.000000                                0.000000   \n",
       "25%                  0.000000                                0.000000   \n",
       "50%                  0.000000                                0.000000   \n",
       "75%                  0.000000                                0.000000   \n",
       "max                  1.000000                                1.000000   \n",
       "\n",
       "       payment_type_Credit card (automatic)  payment_type_Electronic check  \\\n",
       "count                           4225.000000                    4225.000000   \n",
       "mean                               0.217988                       0.339408   \n",
       "std                                0.412928                       0.473565   \n",
       "min                                0.000000                       0.000000   \n",
       "25%                                0.000000                       0.000000   \n",
       "50%                                0.000000                       0.000000   \n",
       "75%                                0.000000                       1.000000   \n",
       "max                                1.000000                       1.000000   \n",
       "\n",
       "       payment_type_Mailed check  \n",
       "count                4225.000000  \n",
       "mean                    0.221302  \n",
       "std                     0.415172  \n",
       "min                     0.000000  \n",
       "25%                     0.000000  \n",
       "50%                     0.000000  \n",
       "75%                     0.000000  \n",
       "max                     1.000000  "
      ]
     },
     "execution_count": 64,
     "metadata": {},
     "output_type": "execute_result"
    }
   ],
   "source": [
    "trained_telco.describe()"
   ]
  },
  {
   "cell_type": "markdown",
   "id": "578ab105",
   "metadata": {},
   "source": [
    "<span style=\"font-size: 24pt;\">Explore</span>"
   ]
  },
  {
   "cell_type": "markdown",
   "id": "d9333817",
   "metadata": {},
   "source": [
    "<span style=\"font-size: 16pt;\">Do people churn faster as monthly charges increase?</span>\n",
    "\n",
    "<span style=\"font-size: 14pt;\">Ho People do not drop service as monthly charges increase</span>\n",
    "\n",
    "<span style=\"font-size: 14pt;\">Ha People drop service as monthly charges increase</span>"
   ]
  },
  {
   "cell_type": "code",
   "execution_count": 4,
   "id": "c40ad5ad",
   "metadata": {},
   "outputs": [
    {
     "data": {
      "image/png": "[encoded data removed]",
      "text/plain": [
       "<Figure size 1200x500 with 2 Axes>"
      ]
     },
     "metadata": {},
     "output_type": "display_data"
    }
   ],
   "source": [
    "churners(trained_telco)"
   ]
  },
  {
   "cell_type": "code",
   "execution_count": 108,
   "id": "d6df57c6",
   "metadata": {},
   "outputs": [
    {
     "data": {
      "image/png": "[encoded data removed]",
      "text/plain": [
       "<Figure size 1000x600 with 1 Axes>"
      ]
     },
     "metadata": {},
     "output_type": "display_data"
    }
   ],
   "source": [
    "\n",
    "sns.set(style=\"white\")\n",
    "\n",
    "\n",
    "plt.figure(figsize=(10, 6))\n",
    "sns.histplot(trained_telco, x='monthly_charges', hue='churn', multiple=\"stack\", bins=30, kde=False, palette='viridis')\n",
    "\n",
    "plt.title('Churn vs. Monthly Charges')\n",
    "plt.xlabel('Monthly Charges')\n",
    "plt.ylabel('Count')\n",
    "\n",
    "plt.legend(title='Churn', labels=['No Churn', 'Churn'])\n",
    "\n",
    "plt.show()"
   ]
  },
  {
   "cell_type": "markdown",
   "id": "cf41d018",
   "metadata": {},
   "source": [
    "<span style=\"font-size: 16pt;\">Based off the test results I can conclude monthy charges play a big part in whether a customer churns or not</span>"
   ]
  },
  {
   "cell_type": "code",
   "execution_count": null,
   "id": "12f0131c",
   "metadata": {},
   "outputs": [],
   "source": []
  },
  {
   "cell_type": "code",
   "execution_count": null,
   "id": "e83cdbde",
   "metadata": {},
   "outputs": [],
   "source": []
  },
  {
   "cell_type": "markdown",
   "id": "ef842849",
   "metadata": {},
   "source": [
    "<span style=\"font-size: 16pt;\">Does Gender have any impact on rate of churn?</span>"
   ]
  },
  {
   "cell_type": "markdown",
   "id": "a6ac6dea",
   "metadata": {},
   "source": [
    "<span style=\"font-size: 14pt;\">Ho Gender has no effect on churn rate</span>"
   ]
  },
  {
   "cell_type": "markdown",
   "id": "55077466",
   "metadata": {},
   "source": [
    "<span style=\"font-size: 14pt;\">Ha Gender does have an effect on churn rate</span>"
   ]
  },
  {
   "cell_type": "code",
   "execution_count": 71,
   "id": "fd26cfc4",
   "metadata": {},
   "outputs": [
    {
     "data": {
      "image/png": "[encoded data removed]",
      "text/plain": [
       "<Figure size 1200x500 with 2 Axes>"
      ]
     },
     "metadata": {},
     "output_type": "display_data"
    }
   ],
   "source": [
    "gender_impact(trained_telco)"
   ]
  },
  {
   "cell_type": "code",
   "execution_count": 67,
   "id": "c7e267ac",
   "metadata": {},
   "outputs": [],
   "source": [
    "gender__churn_rate = pd.crosstab(columns=trained_telco.gender,index=trained_telco.churn)"
   ]
  },
  {
   "cell_type": "code",
   "execution_count": 68,
   "id": "2c2ef877",
   "metadata": {},
   "outputs": [
    {
     "data": {
      "text/html": [
       "<div>\n",
       "<style scoped>\n",
       "    .dataframe tbody tr th:only-of-type {\n",
       "        vertical-align: middle;\n",
       "    }\n",
       "\n",
       "    .dataframe tbody tr th {\n",
       "        vertical-align: top;\n",
       "    }\n",
       "\n",
       "    .dataframe thead th {\n",
       "        text-align: right;\n",
       "    }\n",
       "</style>\n",
       "<table border=\"1\" class=\"dataframe\">\n",
       "  <thead>\n",
       "    <tr style=\"text-align: right;\">\n",
       "      <th>gender</th>\n",
       "      <th>0</th>\n",
       "      <th>1</th>\n",
       "    </tr>\n",
       "    <tr>\n",
       "      <th>churn</th>\n",
       "      <th></th>\n",
       "      <th></th>\n",
       "    </tr>\n",
       "  </thead>\n",
       "  <tbody>\n",
       "    <tr>\n",
       "      <th>0</th>\n",
       "      <td>1554</td>\n",
       "      <td>1550</td>\n",
       "    </tr>\n",
       "    <tr>\n",
       "      <th>1</th>\n",
       "      <td>562</td>\n",
       "      <td>559</td>\n",
       "    </tr>\n",
       "  </tbody>\n",
       "</table>\n",
       "</div>"
      ],
      "text/plain": [
       "gender     0     1\n",
       "churn             \n",
       "0       1554  1550\n",
       "1        562   559"
      ]
     },
     "execution_count": 68,
     "metadata": {},
     "output_type": "execute_result"
    }
   ],
   "source": [
    "gender__churn_rate"
   ]
  },
  {
   "cell_type": "code",
   "execution_count": 69,
   "id": "ba9ba7a6",
   "metadata": {},
   "outputs": [],
   "source": [
    "chi2, gender_pval, degf, expected = stats.chi2_contingency(gender__churn_rate)"
   ]
  },
  {
   "cell_type": "code",
   "execution_count": 72,
   "id": "10c48292",
   "metadata": {},
   "outputs": [
    {
     "data": {
      "text/plain": [
       "0.996031931504371"
      ]
     },
     "execution_count": 72,
     "metadata": {},
     "output_type": "execute_result"
    }
   ],
   "source": [
    "gender_pval"
   ]
  },
  {
   "cell_type": "markdown",
   "id": "2fcf825d",
   "metadata": {},
   "source": [
    "<span style=\"font-size: 16pt;\">Based off test results with p being a larger value than alpa of .05 I can conclude gender does not play a large role in whether or not a customer churns and fail to reject null hypothesis</span>"
   ]
  },
  {
   "cell_type": "code",
   "execution_count": null,
   "id": "60c55c74",
   "metadata": {},
   "outputs": [],
   "source": []
  },
  {
   "cell_type": "markdown",
   "id": "356ad571",
   "metadata": {},
   "source": [
    "<span style=\"font-size: 16pt;\">Does gender have any impact on purchase of security packages?</span>"
   ]
  },
  {
   "cell_type": "markdown",
   "id": "157d5d66",
   "metadata": {},
   "source": [
    "<span style=\"font-size: 14pt;\">Ho Gender does not have an impact on purhase of security package</span>"
   ]
  },
  {
   "cell_type": "markdown",
   "id": "979d3b49",
   "metadata": {},
   "source": [
    "<span style=\"font-size: 14pt;\">Ha Gender does have an impact on purhase of security packages</span>"
   ]
  },
  {
   "cell_type": "code",
   "execution_count": 11,
   "id": "3575ba4c",
   "metadata": {},
   "outputs": [
    {
     "data": {
      "image/png": "[encoded data removed]",
      "text/plain": [
       "<Figure size 1200x500 with 2 Axes>"
      ]
     },
     "metadata": {},
     "output_type": "display_data"
    }
   ],
   "source": [
    "security_impact(trained_telco)"
   ]
  },
  {
   "cell_type": "code",
   "execution_count": 12,
   "id": "42c6ff45",
   "metadata": {},
   "outputs": [],
   "source": [
    "security_purchase_rate = pd.crosstab(columns=trained_telco.security_backup,index=trained_telco.gender)"
   ]
  },
  {
   "cell_type": "code",
   "execution_count": 13,
   "id": "7cefc5d1",
   "metadata": {},
   "outputs": [
    {
     "data": {
      "text/html": [
       "<div>\n",
       "<style scoped>\n",
       "    .dataframe tbody tr th:only-of-type {\n",
       "        vertical-align: middle;\n",
       "    }\n",
       "\n",
       "    .dataframe tbody tr th {\n",
       "        vertical-align: top;\n",
       "    }\n",
       "\n",
       "    .dataframe thead th {\n",
       "        text-align: right;\n",
       "    }\n",
       "</style>\n",
       "<table border=\"1\" class=\"dataframe\">\n",
       "  <thead>\n",
       "    <tr style=\"text-align: right;\">\n",
       "      <th>security_backup</th>\n",
       "      <th>0</th>\n",
       "      <th>1</th>\n",
       "    </tr>\n",
       "    <tr>\n",
       "      <th>gender</th>\n",
       "      <th></th>\n",
       "      <th></th>\n",
       "    </tr>\n",
       "  </thead>\n",
       "  <tbody>\n",
       "    <tr>\n",
       "      <th>0</th>\n",
       "      <td>1098</td>\n",
       "      <td>1018</td>\n",
       "    </tr>\n",
       "    <tr>\n",
       "      <th>1</th>\n",
       "      <td>1128</td>\n",
       "      <td>981</td>\n",
       "    </tr>\n",
       "  </tbody>\n",
       "</table>\n",
       "</div>"
      ],
      "text/plain": [
       "security_backup     0     1\n",
       "gender                     \n",
       "0                1098  1018\n",
       "1                1128   981"
      ]
     },
     "execution_count": 13,
     "metadata": {},
     "output_type": "execute_result"
    }
   ],
   "source": [
    "security_purchase_rate "
   ]
  },
  {
   "cell_type": "code",
   "execution_count": 14,
   "id": "290c838d",
   "metadata": {},
   "outputs": [],
   "source": [
    "chi2, security_pval, degf, expected = stats.chi2_contingency(security_purchase_rate)"
   ]
  },
  {
   "cell_type": "code",
   "execution_count": 73,
   "id": "18bc4df7",
   "metadata": {},
   "outputs": [
    {
     "data": {
      "text/plain": [
       "0.3138183526114294"
      ]
     },
     "execution_count": 73,
     "metadata": {},
     "output_type": "execute_result"
    }
   ],
   "source": [
    "security_pval"
   ]
  },
  {
   "cell_type": "markdown",
   "id": "446122d8",
   "metadata": {},
   "source": [
    "<span style=\"font-size: 16pt;\">Based off test results with p being a larger value than alpa of .05 I can conclude gender does not play a large role in whether or not a customer purchases security features and fail to reject null hypothesis<span>"
   ]
  },
  {
   "cell_type": "markdown",
   "id": "a4ea7927",
   "metadata": {},
   "source": [
    "<span style=\"font-size: 16pt;\">Do senior citizens churn faster than non senior citizens?</span>"
   ]
  },
  {
   "cell_type": "code",
   "execution_count": null,
   "id": "6d55ae12",
   "metadata": {},
   "outputs": [],
   "source": []
  },
  {
   "cell_type": "markdown",
   "id": "d9b72f37",
   "metadata": {},
   "source": [
    "<span style=\"font-size: 14pt;\">Ho Senior citizens do not churn faster than non senior citizens</span>"
   ]
  },
  {
   "cell_type": "markdown",
   "id": "71215cd6",
   "metadata": {},
   "source": [
    "<span style=\"font-size: 14pt;\">Ha Senior citizens churn faster than non senior citizens</span>"
   ]
  },
  {
   "cell_type": "code",
   "execution_count": 17,
   "id": "c1e18f2b",
   "metadata": {},
   "outputs": [
    {
     "data": {
      "image/png": "[encoded data removed]",
      "text/plain": [
       "<Figure size 640x480 with 1 Axes>"
      ]
     },
     "metadata": {},
     "output_type": "display_data"
    }
   ],
   "source": [
    "senior_citizen_churn(trained_telco)"
   ]
  },
  {
   "cell_type": "code",
   "execution_count": 18,
   "id": "00752650",
   "metadata": {},
   "outputs": [
    {
     "name": "stdout",
     "output_type": "stream",
     "text": [
      "Mann-Whitney U Statistic (Senior Citizens): 1399475.5\n",
      "P-value: 1.930405954296988e-26\n",
      "Reject the null hypothesis. There is a significant difference in monthly charges between churned and  non-               churned senior citizens.\n"
     ]
    }
   ],
   "source": [
    "senior_mannwit(trained_telco)"
   ]
  },
  {
   "cell_type": "markdown",
   "id": "32739121",
   "metadata": {},
   "source": [
    "<span style=\"font-size: 16pt;\">Based off the test results I can conclude whether a person is a senior citizen plays a big part in whether they churn or not. Reject null hypothesis</span>"
   ]
  },
  {
   "cell_type": "code",
   "execution_count": null,
   "id": "e2332ccc",
   "metadata": {},
   "outputs": [],
   "source": []
  },
  {
   "cell_type": "markdown",
   "id": "a6bd70b2",
   "metadata": {},
   "source": [
    "<span style=\"font-size: 24pt;\">Modeling</span>"
   ]
  },
  {
   "cell_type": "markdown",
   "id": "f9acc8f6",
   "metadata": {},
   "source": [
    "<span style=\"font-size: 16pt;\">I chose to move on with gender, security, and senior status for my drivers, even though two of the three were not drivers, I was curious if age would results or increase accuracy<span>"
   ]
  },
  {
   "cell_type": "code",
   "execution_count": null,
   "id": "f94a83f1",
   "metadata": {},
   "outputs": [],
   "source": []
  },
  {
   "cell_type": "code",
   "execution_count": 19,
   "id": "4413f73c",
   "metadata": {},
   "outputs": [],
   "source": [
    "classy = DecisionTreeClassifier() # USING THREE DEPTHS DECISION TREE FOR MDOELING"
   ]
  },
  {
   "cell_type": "code",
   "execution_count": 22,
   "id": "48db1c55",
   "metadata": {},
   "outputs": [
    {
     "data": {
      "text/plain": [
       "0.7346745562130178"
      ]
     },
     "execution_count": 22,
     "metadata": {},
     "output_type": "execute_result"
    }
   ],
   "source": [
    "y_train4.value_counts(normalize=True)[0] #BASELINE ACCURACY CHURN"
   ]
  },
  {
   "cell_type": "code",
   "execution_count": null,
   "id": "ba9d9500",
   "metadata": {},
   "outputs": [],
   "source": []
  },
  {
   "cell_type": "code",
   "execution_count": 20,
   "id": "0efb2d9d",
   "metadata": {},
   "outputs": [],
   "source": [
    "X_train4 = trained_telco[[\"gender\",\"security_backup\",\"senior_citizen\"]]\n",
    "X_validate4 = validated_telco[[\"gender\",\"security_backup\",\"senior_citizen\"]] \n",
    "X_test4 = tested_telco[[\"gender\",\"security_backup\",\"senior_citizen\"]] "
   ]
  },
  {
   "cell_type": "code",
   "execution_count": 21,
   "id": "83cf7d29",
   "metadata": {},
   "outputs": [],
   "source": [
    "y_train4 = trained_telco.churn #Create y target variables\n",
    "y_validate4 = validated_telco.churn\n",
    "y_test4 = tested_telco.churn"
   ]
  },
  {
   "cell_type": "code",
   "execution_count": 86,
   "id": "25a1e1cc",
   "metadata": {},
   "outputs": [],
   "source": [
    "classy4 = DecisionTreeClassifier(max_depth=4) #Creates decision tree models\n",
    "classy10 =DecisionTreeClassifier(max_depth=10)\n",
    "classy20 =DecisionTreeClassifier(max_depth=20)"
   ]
  },
  {
   "cell_type": "code",
   "execution_count": 87,
   "id": "13574f6a",
   "metadata": {},
   "outputs": [
    {
     "data": {
      "text/html": [
       "<style>#sk-container-id-3 {color: black;}#sk-container-id-3 pre{padding: 0;}#sk-container-id-3 div.sk-toggleable {background-color: white;}#sk-container-id-3 label.sk-toggleable__label {cursor: pointer;display: block;width: 100%;margin-bottom: 0;padding: 0.3em;box-sizing: border-box;text-align: center;}#sk-container-id-3 label.sk-toggleable__label-arrow:before {content: \"▸\";float: left;margin-right: 0.25em;color: #696969;}#sk-container-id-3 label.sk-toggleable__label-arrow:hover:before {color: black;}#sk-container-id-3 div.sk-estimator:hover label.sk-toggleable__label-arrow:before {color: black;}#sk-container-id-3 div.sk-toggleable__content {max-height: 0;max-width: 0;overflow: hidden;text-align: left;background-color: #f0f8ff;}#sk-container-id-3 div.sk-toggleable__content pre {margin: 0.2em;color: black;border-radius: 0.25em;background-color: #f0f8ff;}#sk-container-id-3 input.sk-toggleable__control:checked~div.sk-toggleable__content {max-height: 200px;max-width: 100%;overflow: auto;}#sk-container-id-3 input.sk-toggleable__control:checked~label.sk-toggleable__label-arrow:before {content: \"▾\";}#sk-container-id-3 div.sk-estimator input.sk-toggleable__control:checked~label.sk-toggleable__label {background-color: #d4ebff;}#sk-container-id-3 div.sk-label input.sk-toggleable__control:checked~label.sk-toggleable__label {background-color: #d4ebff;}#sk-container-id-3 input.sk-hidden--visually {border: 0;clip: rect(1px 1px 1px 1px);clip: rect(1px, 1px, 1px, 1px);height: 1px;margin: -1px;overflow: hidden;padding: 0;position: absolute;width: 1px;}#sk-container-id-3 div.sk-estimator {font-family: monospace;background-color: #f0f8ff;border: 1px dotted black;border-radius: 0.25em;box-sizing: border-box;margin-bottom: 0.5em;}#sk-container-id-3 div.sk-estimator:hover {background-color: #d4ebff;}#sk-container-id-3 div.sk-parallel-item::after {content: \"\";width: 100%;border-bottom: 1px solid gray;flex-grow: 1;}#sk-container-id-3 div.sk-label:hover label.sk-toggleable__label {background-color: #d4ebff;}#sk-container-id-3 div.sk-serial::before {content: \"\";position: absolute;border-left: 1px solid gray;box-sizing: border-box;top: 0;bottom: 0;left: 50%;z-index: 0;}#sk-container-id-3 div.sk-serial {display: flex;flex-direction: column;align-items: center;background-color: white;padding-right: 0.2em;padding-left: 0.2em;position: relative;}#sk-container-id-3 div.sk-item {position: relative;z-index: 1;}#sk-container-id-3 div.sk-parallel {display: flex;align-items: stretch;justify-content: center;background-color: white;position: relative;}#sk-container-id-3 div.sk-item::before, #sk-container-id-3 div.sk-parallel-item::before {content: \"\";position: absolute;border-left: 1px solid gray;box-sizing: border-box;top: 0;bottom: 0;left: 50%;z-index: -1;}#sk-container-id-3 div.sk-parallel-item {display: flex;flex-direction: column;z-index: 1;position: relative;background-color: white;}#sk-container-id-3 div.sk-parallel-item:first-child::after {align-self: flex-end;width: 50%;}#sk-container-id-3 div.sk-parallel-item:last-child::after {align-self: flex-start;width: 50%;}#sk-container-id-3 div.sk-parallel-item:only-child::after {width: 0;}#sk-container-id-3 div.sk-dashed-wrapped {border: 1px dashed gray;margin: 0 0.4em 0.5em 0.4em;box-sizing: border-box;padding-bottom: 0.4em;background-color: white;}#sk-container-id-3 div.sk-label label {font-family: monospace;font-weight: bold;display: inline-block;line-height: 1.2em;}#sk-container-id-3 div.sk-label-container {text-align: center;}#sk-container-id-3 div.sk-container {/* jupyter's `normalize.less` sets `[hidden] { display: none; }` but bootstrap.min.css set `[hidden] { display: none !important; }` so we also need the `!important` here to be able to override the default hidden behavior on the sphinx rendered scikit-learn.org. See: https://github.com/scikit-learn/scikit-learn/issues/21755 */display: inline-block !important;position: relative;}#sk-container-id-3 div.sk-text-repr-fallback {display: none;}</style><div id=\"sk-container-id-3\" class=\"sk-top-container\"><div class=\"sk-text-repr-fallback\"><pre>DecisionTreeClassifier(max_depth=20)</pre><b>In a Jupyter environment, please rerun this cell to show the HTML representation or trust the notebook. <br />On GitHub, the HTML representation is unable to render, please try loading this page with nbviewer.org.</b></div><div class=\"sk-container\" hidden><div class=\"sk-item\"><div class=\"sk-estimator sk-toggleable\"><input class=\"sk-toggleable__control sk-hidden--visually\" id=\"sk-estimator-id-3\" type=\"checkbox\" checked><label for=\"sk-estimator-id-3\" class=\"sk-toggleable__label sk-toggleable__label-arrow\">DecisionTreeClassifier</label><div class=\"sk-toggleable__content\"><pre>DecisionTreeClassifier(max_depth=20)</pre></div></div></div></div></div>"
      ],
      "text/plain": [
       "DecisionTreeClassifier(max_depth=20)"
      ]
     },
     "execution_count": 87,
     "metadata": {},
     "output_type": "execute_result"
    }
   ],
   "source": [
    "classy4.fit(X_train4,y_train4)\n",
    "classy10.fit(X_train4,y_train4)\n",
    "classy20.fit(X_train4,y_train4)"
   ]
  },
  {
   "cell_type": "code",
   "execution_count": 27,
   "id": "fad1c34a",
   "metadata": {},
   "outputs": [
    {
     "data": {
      "text/plain": [
       "0.7420118343195267"
      ]
     },
     "execution_count": 27,
     "metadata": {},
     "output_type": "execute_result"
    }
   ],
   "source": [
    "classy4.score(X_train4,y_train4)"
   ]
  },
  {
   "cell_type": "code",
   "execution_count": 28,
   "id": "b922598f",
   "metadata": {},
   "outputs": [
    {
     "data": {
      "text/plain": [
       "0.7420118343195267"
      ]
     },
     "execution_count": 28,
     "metadata": {},
     "output_type": "execute_result"
    }
   ],
   "source": [
    "classy10.score(X_train4,y_train4)"
   ]
  },
  {
   "cell_type": "code",
   "execution_count": 29,
   "id": "3b2f822a",
   "metadata": {},
   "outputs": [
    {
     "data": {
      "text/plain": [
       "0.7420118343195267"
      ]
     },
     "execution_count": 29,
     "metadata": {},
     "output_type": "execute_result"
    }
   ],
   "source": [
    "classy20.score(X_train4,y_train4)"
   ]
  },
  {
   "cell_type": "code",
   "execution_count": 30,
   "id": "60b78fcf",
   "metadata": {},
   "outputs": [
    {
     "data": {
      "text/plain": [
       "0.7331440738112136"
      ]
     },
     "execution_count": 30,
     "metadata": {},
     "output_type": "execute_result"
    }
   ],
   "source": [
    "classy4.score(X_validate4,y_validate4)"
   ]
  },
  {
   "cell_type": "code",
   "execution_count": 31,
   "id": "f810fd82",
   "metadata": {},
   "outputs": [
    {
     "data": {
      "text/plain": [
       "0.7331440738112136"
      ]
     },
     "execution_count": 31,
     "metadata": {},
     "output_type": "execute_result"
    }
   ],
   "source": [
    "classy10.score(X_validate4,y_validate4)"
   ]
  },
  {
   "cell_type": "code",
   "execution_count": 32,
   "id": "4e607cd4",
   "metadata": {},
   "outputs": [
    {
     "data": {
      "text/plain": [
       "0.7331440738112136"
      ]
     },
     "execution_count": 32,
     "metadata": {},
     "output_type": "execute_result"
    }
   ],
   "source": [
    "classy20.score(X_validate4,y_validate4)"
   ]
  },
  {
   "cell_type": "markdown",
   "id": "9f24c0c2",
   "metadata": {},
   "source": [
    "<span style=\"font-size: 16pt;\">All three model depths came out roughly the same, yet still beat the baseline accuracy<span>"
   ]
  },
  {
   "cell_type": "code",
   "execution_count": null,
   "id": "9ee13a86",
   "metadata": {},
   "outputs": [],
   "source": [
    "\n"
   ]
  },
  {
   "cell_type": "markdown",
   "id": "a6b34dbb",
   "metadata": {},
   "source": [
    "<span style=\"font-size: 24pt;\">Conclusion</span>"
   ]
  },
  {
   "cell_type": "markdown",
   "id": "63176edb",
   "metadata": {},
   "source": [
    "# <span style=\"font-size: 18px;\">Exploration Summary</span>\n",
    "\n",
    "## <span style=\"font-size: 18px;\">Churn Rate Analysis</span>\n",
    "\n",
    "- <span style=\"font-size: 18px;\">**Age Impact:**</span>\n",
    "  - <span style=\"font-size: 18px;\">The churn rate is influenced by the age of the customers. Initiatives should be taken to incentivize older customers to keep service\n",
    "\n",
    "- <span style=\"font-size: 18px;\">**Monthly Charges Rate:**</span>\n",
    "  - <span style=\"font-size: 18px;\">Monthly charges rate has an impact on the churn rate. As the prices went up there was a significant increase in churn rate. Need to look at possibly discounting prices or addin perks such as bundled access to streaming services</span>\n",
    "\n",
    "## <span style=\"font-size: 18px;\">Gender and Security Feature Analysis</span>\n",
    "\n",
    "- <span style=\"font-size: 18px;\">**Churn Rates by Gender:**</span>\n",
    "  - <span style=\"font-size: 18px;\">I had expected some differences in churn rates  by gender was wrong in that assumption.</span>\n",
    "\n",
    "- <span style=\"font-size: 18px;\">**Security Feature Purchase:**</span>\n",
    "  - <span style=\"font-size: 18px;\">I had expected some differences in security feature purchase by gender was wrong in that assumption</span>\n",
    "\n",
    ".</span>\n",
    "\n",
    "\n"
   ]
  },
  {
   "cell_type": "markdown",
   "id": "0dc82643",
   "metadata": {},
   "source": [
    "# <span style=\"font-size: 18px;\">Recommendations</span>\n",
    "\n",
    "\n",
    "\n",
    "## <span style=\"font-size: 18px;\">Deep Dive into Metrics for Older Customers</span>\n",
    "\n",
    "<span style=\"font-size: 18px;\">Explore and analyze specific metrics related to older customers. Identify factors contributing to churn in this demographic and implement targeted strategies to reduce churn rates.</span>\n",
    "\n",
    "## <span style=\"font-size: 18px;\">Bundling Additional Streaming Incentives</span>\n",
    "\n",
    "<span style=\"font-size: 18px;\">Consider bundling additional streaming incentives into higher-tiered bill packages. This can attract and retain customers, especially those looking for enhanced entertainment options. Ensure that the incentives align with customer preferences and needs.</span>\n"
   ]
  },
  {
   "cell_type": "markdown",
   "id": "d6b72b20",
   "metadata": {},
   "source": [
    "# <span style=\"font-size: 24px;\">Next Steps</span>\n",
    "\n",
    "<span style=\"font-size: 24px;\"></span>\n",
    "\n",
    "1. **Conduct a Detailed Analysis for Older Customers:**\n",
    "   - Dive deeper into the data for older customers. Explore factors such as customer satisfaction, service usage patterns, and feedback to identify specific areas for improvement.\n",
    "\n",
    "2. **Implement Targeted Marketing Campaigns:**\n",
    "   - Develop and implement targeted marketing campaigns for older customers. Tailor promotional materials and incentives to address their unique needs and preferences, with a focus on reducing churn.\n",
    "\n",
    "3. **Evaluate the Viability of Streaming Incentives:**\n",
    "   - Assess the feasibility and impact of bundling additional streaming incentives into higher-tiered bill packages. Consider customer feedback, cost implications, and potential partnerships with streaming services.\n"
   ]
  },
  {
   "cell_type": "code",
   "execution_count": null,
   "id": "ea93f829",
   "metadata": {},
   "outputs": [],
   "source": []
  },
  {
   "cell_type": "code",
   "execution_count": null,
   "id": "749dfb95",
   "metadata": {},
   "outputs": [],
   "source": []
  },
  {
   "cell_type": "code",
   "execution_count": null,
   "id": "295b8c01",
   "metadata": {},
   "outputs": [],
   "source": []
  },
  {
   "cell_type": "markdown",
   "id": "5fe0092c",
   "metadata": {},
   "source": [
    "<span style=\"font-size: 16pt;\">Predictions CSV</span>"
   ]
  },
  {
   "cell_type": "code",
   "execution_count": 33,
   "id": "d72137db",
   "metadata": {},
   "outputs": [],
   "source": [
    "predictions =classy4.predict(X_test4)"
   ]
  },
  {
   "cell_type": "code",
   "execution_count": 88,
   "id": "f0fcdf63",
   "metadata": {},
   "outputs": [],
   "source": [
    "probability = pd.DataFrame(probability)"
   ]
  },
  {
   "cell_type": "code",
   "execution_count": 89,
   "id": "401ec90d",
   "metadata": {},
   "outputs": [],
   "source": [
    "prep = keep_cust_prep_telco(get_telco_data)"
   ]
  },
  {
   "cell_type": "code",
   "execution_count": 90,
   "id": "cbb88b91",
   "metadata": {},
   "outputs": [],
   "source": [
    "train_keep_telco,validate_keep_telco,test_keep_telco = chop_data(prep,\"churn\")"
   ]
  },
  {
   "cell_type": "code",
   "execution_count": 91,
   "id": "cdbaf230",
   "metadata": {},
   "outputs": [],
   "source": [
    "customer_id = test_keep_telco[\"customer_id\"]\n",
    "customer_id = customer_id.reset_index()"
   ]
  },
  {
   "cell_type": "code",
   "execution_count": null,
   "id": "39ca2f7a",
   "metadata": {},
   "outputs": [],
   "source": []
  },
  {
   "cell_type": "code",
   "execution_count": null,
   "id": "d8cf52f2",
   "metadata": {},
   "outputs": [],
   "source": []
  },
  {
   "cell_type": "code",
   "execution_count": null,
   "id": "ffbb1e26",
   "metadata": {},
   "outputs": [],
   "source": []
  },
  {
   "cell_type": "code",
   "execution_count": null,
   "id": "396d55e3",
   "metadata": {},
   "outputs": [],
   "source": []
  },
  {
   "cell_type": "code",
   "execution_count": null,
   "id": "587557b9",
   "metadata": {},
   "outputs": [],
   "source": []
  },
  {
   "cell_type": "code",
   "execution_count": null,
   "id": "b7ccdd1f",
   "metadata": {},
   "outputs": [],
   "source": []
  },
  {
   "cell_type": "code",
   "execution_count": null,
   "id": "2f4cc14a",
   "metadata": {},
   "outputs": [],
   "source": []
  },
  {
   "cell_type": "code",
   "execution_count": 92,
   "id": "db33f962",
   "metadata": {},
   "outputs": [],
   "source": [
    "Predictions = pd.concat(\n",
    "    [customer_id,\n",
    "    predictions,probability],\n",
    "    axis=1)"
   ]
  },
  {
   "cell_type": "code",
   "execution_count": 93,
   "id": "61f58dab",
   "metadata": {},
   "outputs": [
    {
     "data": {
      "text/html": [
       "<div>\n",
       "<style scoped>\n",
       "    .dataframe tbody tr th:only-of-type {\n",
       "        vertical-align: middle;\n",
       "    }\n",
       "\n",
       "    .dataframe tbody tr th {\n",
       "        vertical-align: top;\n",
       "    }\n",
       "\n",
       "    .dataframe thead th {\n",
       "        text-align: right;\n",
       "    }\n",
       "</style>\n",
       "<table border=\"1\" class=\"dataframe\">\n",
       "  <thead>\n",
       "    <tr style=\"text-align: right;\">\n",
       "      <th></th>\n",
       "      <th>index</th>\n",
       "      <th>customer_id</th>\n",
       "      <th>0</th>\n",
       "      <th>0</th>\n",
       "      <th>1</th>\n",
       "    </tr>\n",
       "  </thead>\n",
       "  <tbody>\n",
       "    <tr>\n",
       "      <th>0</th>\n",
       "      <td>4930</td>\n",
       "      <td>6941-KXRRV</td>\n",
       "      <td>0</td>\n",
       "      <td>0.734807</td>\n",
       "      <td>0.265193</td>\n",
       "    </tr>\n",
       "    <tr>\n",
       "      <th>1</th>\n",
       "      <td>117</td>\n",
       "      <td>0206-OYVOC</td>\n",
       "      <td>0</td>\n",
       "      <td>0.725857</td>\n",
       "      <td>0.274143</td>\n",
       "    </tr>\n",
       "    <tr>\n",
       "      <th>2</th>\n",
       "      <td>5275</td>\n",
       "      <td>7442-YGZFK</td>\n",
       "      <td>0</td>\n",
       "      <td>0.712154</td>\n",
       "      <td>0.287846</td>\n",
       "    </tr>\n",
       "    <tr>\n",
       "      <th>3</th>\n",
       "      <td>6364</td>\n",
       "      <td>9018-PCIOK</td>\n",
       "      <td>0</td>\n",
       "      <td>0.813750</td>\n",
       "      <td>0.186250</td>\n",
       "    </tr>\n",
       "    <tr>\n",
       "      <th>4</th>\n",
       "      <td>1092</td>\n",
       "      <td>1591-MQJTP</td>\n",
       "      <td>0</td>\n",
       "      <td>0.680851</td>\n",
       "      <td>0.319149</td>\n",
       "    </tr>\n",
       "    <tr>\n",
       "      <th>...</th>\n",
       "      <td>...</td>\n",
       "      <td>...</td>\n",
       "      <td>...</td>\n",
       "      <td>...</td>\n",
       "      <td>...</td>\n",
       "    </tr>\n",
       "    <tr>\n",
       "      <th>1404</th>\n",
       "      <td>250</td>\n",
       "      <td>0378-CJKPV</td>\n",
       "      <td>0</td>\n",
       "      <td>0.813750</td>\n",
       "      <td>0.186250</td>\n",
       "    </tr>\n",
       "    <tr>\n",
       "      <th>1405</th>\n",
       "      <td>2483</td>\n",
       "      <td>3551-HUAZH</td>\n",
       "      <td>0</td>\n",
       "      <td>0.500000</td>\n",
       "      <td>0.500000</td>\n",
       "    </tr>\n",
       "    <tr>\n",
       "      <th>1406</th>\n",
       "      <td>4480</td>\n",
       "      <td>6322-PJJDJ</td>\n",
       "      <td>0</td>\n",
       "      <td>0.816867</td>\n",
       "      <td>0.183133</td>\n",
       "    </tr>\n",
       "    <tr>\n",
       "      <th>1407</th>\n",
       "      <td>2959</td>\n",
       "      <td>4227-OJHAL</td>\n",
       "      <td>0</td>\n",
       "      <td>0.813750</td>\n",
       "      <td>0.186250</td>\n",
       "    </tr>\n",
       "    <tr>\n",
       "      <th>1408</th>\n",
       "      <td>4628</td>\n",
       "      <td>6522-OIQSX</td>\n",
       "      <td>0</td>\n",
       "      <td>0.813750</td>\n",
       "      <td>0.186250</td>\n",
       "    </tr>\n",
       "  </tbody>\n",
       "</table>\n",
       "<p>1409 rows × 5 columns</p>\n",
       "</div>"
      ],
      "text/plain": [
       "      index customer_id  0         0         1\n",
       "0      4930  6941-KXRRV  0  0.734807  0.265193\n",
       "1       117  0206-OYVOC  0  0.725857  0.274143\n",
       "2      5275  7442-YGZFK  0  0.712154  0.287846\n",
       "3      6364  9018-PCIOK  0  0.813750  0.186250\n",
       "4      1092  1591-MQJTP  0  0.680851  0.319149\n",
       "...     ...         ... ..       ...       ...\n",
       "1404    250  0378-CJKPV  0  0.813750  0.186250\n",
       "1405   2483  3551-HUAZH  0  0.500000  0.500000\n",
       "1406   4480  6322-PJJDJ  0  0.816867  0.183133\n",
       "1407   2959  4227-OJHAL  0  0.813750  0.186250\n",
       "1408   4628  6522-OIQSX  0  0.813750  0.186250\n",
       "\n",
       "[1409 rows x 5 columns]"
      ]
     },
     "execution_count": 93,
     "metadata": {},
     "output_type": "execute_result"
    }
   ],
   "source": [
    "Predictions"
   ]
  },
  {
   "cell_type": "code",
   "execution_count": 94,
   "id": "8105176f",
   "metadata": {},
   "outputs": [],
   "source": [
    "csv_path = \"/Users/baddy/Desktop/Codeup-Classwork/STAN_CLASSWORK_Codeup/Classification-Project/Predictions.csv\""
   ]
  },
  {
   "cell_type": "code",
   "execution_count": null,
   "id": "4d2d6b2a",
   "metadata": {},
   "outputs": [],
   "source": [
    "Predictions.to_csv(csv_path, index=False)"
   ]
  },
  {
   "cell_type": "code",
   "execution_count": null,
   "id": "b8269ecd",
   "metadata": {},
   "outputs": [],
   "source": []
  }
 ],
 "metadata": {
  "kernelspec": {
   "display_name": "Python 3 (ipykernel)",
   "language": "python",
   "name": "python3"
  },
  "language_info": {
   "codemirror_mode": {
    "name": "ipython",
    "version": 3
   },
   "file_extension": ".py",
   "mimetype": "text/x-python",
   "name": "python",
   "nbconvert_exporter": "python",
   "pygments_lexer": "ipython3",
   "version": "3.11.5"
  }
 },
 "nbformat": 4,
 "nbformat_minor": 5
}
