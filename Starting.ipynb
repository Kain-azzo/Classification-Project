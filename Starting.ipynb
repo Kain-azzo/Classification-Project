{
 "cells": [
  {
   "cell_type": "code",
   "execution_count": 1,
   "id": "1d516d3e",
   "metadata": {},
   "outputs": [
    {
     "name": "stdout",
     "output_type": "stream",
     "text": [
      "this file exists, reading csv\n"
     ]
    }
   ],
   "source": [
    "import pandas as pd\n",
    "import numpy as np\n",
    "\n",
    "import matplotlib.pyplot as plt\n",
    "import seaborn as sns\n",
    "from acquire import get_telco_data\n",
    "from prepare import chop_data,prep_telco,keep_cust_prep_telco,charts_telco\n",
    "from sklearn.impute import SimpleImputer\n",
    "from scipy import stats\n",
    "from sklearn.metrics import accuracy_score,classification_report,confusion_matrix\n",
    "from sklearn.tree import DecisionTreeClassifier,export_text, plot_tree"
   ]
  },
  {
   "cell_type": "code",
   "execution_count": 2,
   "id": "d8b5411c",
   "metadata": {},
   "outputs": [],
   "source": [
    "import warnings\n",
    "\n",
    "warnings.filterwarnings('ignore')"
   ]
  },
  {
   "cell_type": "code",
   "execution_count": 3,
   "id": "9e690f3e",
   "metadata": {},
   "outputs": [],
   "source": [
    "from sklearn.linear_model import LogisticRegression\n",
    "from sklearn.neighbors import kneighbors_graph\n",
    "from sklearn.neighbors import KNeighborsClassifier"
   ]
  },
  {
   "cell_type": "code",
   "execution_count": 4,
   "id": "430e0e2c",
   "metadata": {},
   "outputs": [
    {
     "data": {
      "text/html": [
       "<div>\n",
       "<style scoped>\n",
       "    .dataframe tbody tr th:only-of-type {\n",
       "        vertical-align: middle;\n",
       "    }\n",
       "\n",
       "    .dataframe tbody tr th {\n",
       "        vertical-align: top;\n",
       "    }\n",
       "\n",
       "    .dataframe thead th {\n",
       "        text-align: right;\n",
       "    }\n",
       "</style>\n",
       "<table border=\"1\" class=\"dataframe\">\n",
       "  <thead>\n",
       "    <tr style=\"text-align: right;\">\n",
       "      <th></th>\n",
       "      <th>payment_type_id</th>\n",
       "      <th>internet_service_type_id</th>\n",
       "      <th>contract_type_id</th>\n",
       "      <th>customer_id</th>\n",
       "      <th>gender</th>\n",
       "      <th>senior_citizen</th>\n",
       "      <th>partner</th>\n",
       "      <th>dependents</th>\n",
       "      <th>tenure</th>\n",
       "      <th>phone_service</th>\n",
       "      <th>...</th>\n",
       "      <th>tech_support</th>\n",
       "      <th>streaming_tv</th>\n",
       "      <th>streaming_movies</th>\n",
       "      <th>paperless_billing</th>\n",
       "      <th>monthly_charges</th>\n",
       "      <th>total_charges</th>\n",
       "      <th>churn</th>\n",
       "      <th>contract_type</th>\n",
       "      <th>internet_service_type</th>\n",
       "      <th>payment_type</th>\n",
       "    </tr>\n",
       "  </thead>\n",
       "  <tbody>\n",
       "    <tr>\n",
       "      <th>0</th>\n",
       "      <td>2</td>\n",
       "      <td>1</td>\n",
       "      <td>2</td>\n",
       "      <td>0002-ORFBO</td>\n",
       "      <td>Female</td>\n",
       "      <td>0</td>\n",
       "      <td>Yes</td>\n",
       "      <td>Yes</td>\n",
       "      <td>9</td>\n",
       "      <td>Yes</td>\n",
       "      <td>...</td>\n",
       "      <td>Yes</td>\n",
       "      <td>Yes</td>\n",
       "      <td>No</td>\n",
       "      <td>Yes</td>\n",
       "      <td>65.6</td>\n",
       "      <td>593.3</td>\n",
       "      <td>No</td>\n",
       "      <td>One year</td>\n",
       "      <td>DSL</td>\n",
       "      <td>Mailed check</td>\n",
       "    </tr>\n",
       "    <tr>\n",
       "      <th>1</th>\n",
       "      <td>2</td>\n",
       "      <td>1</td>\n",
       "      <td>1</td>\n",
       "      <td>0003-MKNFE</td>\n",
       "      <td>Male</td>\n",
       "      <td>0</td>\n",
       "      <td>No</td>\n",
       "      <td>No</td>\n",
       "      <td>9</td>\n",
       "      <td>Yes</td>\n",
       "      <td>...</td>\n",
       "      <td>No</td>\n",
       "      <td>No</td>\n",
       "      <td>Yes</td>\n",
       "      <td>No</td>\n",
       "      <td>59.9</td>\n",
       "      <td>542.4</td>\n",
       "      <td>No</td>\n",
       "      <td>Month-to-month</td>\n",
       "      <td>DSL</td>\n",
       "      <td>Mailed check</td>\n",
       "    </tr>\n",
       "    <tr>\n",
       "      <th>2</th>\n",
       "      <td>1</td>\n",
       "      <td>2</td>\n",
       "      <td>1</td>\n",
       "      <td>0004-TLHLJ</td>\n",
       "      <td>Male</td>\n",
       "      <td>0</td>\n",
       "      <td>No</td>\n",
       "      <td>No</td>\n",
       "      <td>4</td>\n",
       "      <td>Yes</td>\n",
       "      <td>...</td>\n",
       "      <td>No</td>\n",
       "      <td>No</td>\n",
       "      <td>No</td>\n",
       "      <td>Yes</td>\n",
       "      <td>73.9</td>\n",
       "      <td>280.85</td>\n",
       "      <td>Yes</td>\n",
       "      <td>Month-to-month</td>\n",
       "      <td>Fiber optic</td>\n",
       "      <td>Electronic check</td>\n",
       "    </tr>\n",
       "    <tr>\n",
       "      <th>3</th>\n",
       "      <td>1</td>\n",
       "      <td>2</td>\n",
       "      <td>1</td>\n",
       "      <td>0011-IGKFF</td>\n",
       "      <td>Male</td>\n",
       "      <td>1</td>\n",
       "      <td>Yes</td>\n",
       "      <td>No</td>\n",
       "      <td>13</td>\n",
       "      <td>Yes</td>\n",
       "      <td>...</td>\n",
       "      <td>No</td>\n",
       "      <td>Yes</td>\n",
       "      <td>Yes</td>\n",
       "      <td>Yes</td>\n",
       "      <td>98.0</td>\n",
       "      <td>1237.85</td>\n",
       "      <td>Yes</td>\n",
       "      <td>Month-to-month</td>\n",
       "      <td>Fiber optic</td>\n",
       "      <td>Electronic check</td>\n",
       "    </tr>\n",
       "    <tr>\n",
       "      <th>4</th>\n",
       "      <td>2</td>\n",
       "      <td>2</td>\n",
       "      <td>1</td>\n",
       "      <td>0013-EXCHZ</td>\n",
       "      <td>Female</td>\n",
       "      <td>1</td>\n",
       "      <td>Yes</td>\n",
       "      <td>No</td>\n",
       "      <td>3</td>\n",
       "      <td>Yes</td>\n",
       "      <td>...</td>\n",
       "      <td>Yes</td>\n",
       "      <td>Yes</td>\n",
       "      <td>No</td>\n",
       "      <td>Yes</td>\n",
       "      <td>83.9</td>\n",
       "      <td>267.4</td>\n",
       "      <td>Yes</td>\n",
       "      <td>Month-to-month</td>\n",
       "      <td>Fiber optic</td>\n",
       "      <td>Mailed check</td>\n",
       "    </tr>\n",
       "  </tbody>\n",
       "</table>\n",
       "<p>5 rows × 24 columns</p>\n",
       "</div>"
      ],
      "text/plain": [
       "   payment_type_id  internet_service_type_id  contract_type_id customer_id  \\\n",
       "0                2                         1                 2  0002-ORFBO   \n",
       "1                2                         1                 1  0003-MKNFE   \n",
       "2                1                         2                 1  0004-TLHLJ   \n",
       "3                1                         2                 1  0011-IGKFF   \n",
       "4                2                         2                 1  0013-EXCHZ   \n",
       "\n",
       "   gender  senior_citizen partner dependents  tenure phone_service  ...  \\\n",
       "0  Female               0     Yes        Yes       9           Yes  ...   \n",
       "1    Male               0      No         No       9           Yes  ...   \n",
       "2    Male               0      No         No       4           Yes  ...   \n",
       "3    Male               1     Yes         No      13           Yes  ...   \n",
       "4  Female               1     Yes         No       3           Yes  ...   \n",
       "\n",
       "  tech_support streaming_tv streaming_movies paperless_billing  \\\n",
       "0          Yes          Yes               No               Yes   \n",
       "1           No           No              Yes                No   \n",
       "2           No           No               No               Yes   \n",
       "3           No          Yes              Yes               Yes   \n",
       "4          Yes          Yes               No               Yes   \n",
       "\n",
       "  monthly_charges total_charges churn   contract_type  internet_service_type  \\\n",
       "0            65.6         593.3    No        One year                    DSL   \n",
       "1            59.9         542.4    No  Month-to-month                    DSL   \n",
       "2            73.9        280.85   Yes  Month-to-month            Fiber optic   \n",
       "3            98.0       1237.85   Yes  Month-to-month            Fiber optic   \n",
       "4            83.9         267.4   Yes  Month-to-month            Fiber optic   \n",
       "\n",
       "       payment_type  \n",
       "0      Mailed check  \n",
       "1      Mailed check  \n",
       "2  Electronic check  \n",
       "3  Electronic check  \n",
       "4      Mailed check  \n",
       "\n",
       "[5 rows x 24 columns]"
      ]
     },
     "execution_count": 4,
     "metadata": {},
     "output_type": "execute_result"
    }
   ],
   "source": [
    "get_telco_data.head()"
   ]
  },
  {
   "cell_type": "code",
   "execution_count": 5,
   "id": "56a29723",
   "metadata": {},
   "outputs": [],
   "source": [
    "show = prep_telco(get_telco_data)"
   ]
  },
  {
   "cell_type": "code",
   "execution_count": 6,
   "id": "a54331fd",
   "metadata": {},
   "outputs": [
    {
     "data": {
      "text/html": [
       "<div>\n",
       "<style scoped>\n",
       "    .dataframe tbody tr th:only-of-type {\n",
       "        vertical-align: middle;\n",
       "    }\n",
       "\n",
       "    .dataframe tbody tr th {\n",
       "        vertical-align: top;\n",
       "    }\n",
       "\n",
       "    .dataframe thead th {\n",
       "        text-align: right;\n",
       "    }\n",
       "</style>\n",
       "<table border=\"1\" class=\"dataframe\">\n",
       "  <thead>\n",
       "    <tr style=\"text-align: right;\">\n",
       "      <th></th>\n",
       "      <th>gender</th>\n",
       "      <th>senior_citizen</th>\n",
       "      <th>partner</th>\n",
       "      <th>dependents</th>\n",
       "      <th>tenure</th>\n",
       "      <th>phone_service</th>\n",
       "      <th>multiple_lines</th>\n",
       "      <th>paperless_billing</th>\n",
       "      <th>monthly_charges</th>\n",
       "      <th>total_charges</th>\n",
       "      <th>...</th>\n",
       "      <th>internet_service_type</th>\n",
       "      <th>payment_type</th>\n",
       "      <th>security_backup</th>\n",
       "      <th>contract_type_Month-to-month</th>\n",
       "      <th>contract_type_One year</th>\n",
       "      <th>contract_type_Two year</th>\n",
       "      <th>payment_type_Bank transfer (automatic)</th>\n",
       "      <th>payment_type_Credit card (automatic)</th>\n",
       "      <th>payment_type_Electronic check</th>\n",
       "      <th>payment_type_Mailed check</th>\n",
       "    </tr>\n",
       "  </thead>\n",
       "  <tbody>\n",
       "    <tr>\n",
       "      <th>0</th>\n",
       "      <td>1</td>\n",
       "      <td>0</td>\n",
       "      <td>1</td>\n",
       "      <td>1</td>\n",
       "      <td>9</td>\n",
       "      <td>1</td>\n",
       "      <td>0</td>\n",
       "      <td>1</td>\n",
       "      <td>65.6</td>\n",
       "      <td>593.30</td>\n",
       "      <td>...</td>\n",
       "      <td>1</td>\n",
       "      <td>Mailed check</td>\n",
       "      <td>1</td>\n",
       "      <td>0</td>\n",
       "      <td>1</td>\n",
       "      <td>0</td>\n",
       "      <td>0</td>\n",
       "      <td>0</td>\n",
       "      <td>0</td>\n",
       "      <td>1</td>\n",
       "    </tr>\n",
       "    <tr>\n",
       "      <th>1</th>\n",
       "      <td>0</td>\n",
       "      <td>0</td>\n",
       "      <td>0</td>\n",
       "      <td>0</td>\n",
       "      <td>9</td>\n",
       "      <td>1</td>\n",
       "      <td>1</td>\n",
       "      <td>0</td>\n",
       "      <td>59.9</td>\n",
       "      <td>542.40</td>\n",
       "      <td>...</td>\n",
       "      <td>1</td>\n",
       "      <td>Mailed check</td>\n",
       "      <td>0</td>\n",
       "      <td>1</td>\n",
       "      <td>0</td>\n",
       "      <td>0</td>\n",
       "      <td>0</td>\n",
       "      <td>0</td>\n",
       "      <td>0</td>\n",
       "      <td>1</td>\n",
       "    </tr>\n",
       "    <tr>\n",
       "      <th>2</th>\n",
       "      <td>0</td>\n",
       "      <td>0</td>\n",
       "      <td>0</td>\n",
       "      <td>0</td>\n",
       "      <td>4</td>\n",
       "      <td>1</td>\n",
       "      <td>0</td>\n",
       "      <td>1</td>\n",
       "      <td>73.9</td>\n",
       "      <td>280.85</td>\n",
       "      <td>...</td>\n",
       "      <td>1</td>\n",
       "      <td>Electronic check</td>\n",
       "      <td>0</td>\n",
       "      <td>1</td>\n",
       "      <td>0</td>\n",
       "      <td>0</td>\n",
       "      <td>0</td>\n",
       "      <td>0</td>\n",
       "      <td>1</td>\n",
       "      <td>0</td>\n",
       "    </tr>\n",
       "    <tr>\n",
       "      <th>3</th>\n",
       "      <td>0</td>\n",
       "      <td>1</td>\n",
       "      <td>1</td>\n",
       "      <td>0</td>\n",
       "      <td>13</td>\n",
       "      <td>1</td>\n",
       "      <td>0</td>\n",
       "      <td>1</td>\n",
       "      <td>98.0</td>\n",
       "      <td>1237.85</td>\n",
       "      <td>...</td>\n",
       "      <td>1</td>\n",
       "      <td>Electronic check</td>\n",
       "      <td>1</td>\n",
       "      <td>1</td>\n",
       "      <td>0</td>\n",
       "      <td>0</td>\n",
       "      <td>0</td>\n",
       "      <td>0</td>\n",
       "      <td>1</td>\n",
       "      <td>0</td>\n",
       "    </tr>\n",
       "    <tr>\n",
       "      <th>4</th>\n",
       "      <td>1</td>\n",
       "      <td>1</td>\n",
       "      <td>1</td>\n",
       "      <td>0</td>\n",
       "      <td>3</td>\n",
       "      <td>1</td>\n",
       "      <td>0</td>\n",
       "      <td>1</td>\n",
       "      <td>83.9</td>\n",
       "      <td>267.40</td>\n",
       "      <td>...</td>\n",
       "      <td>1</td>\n",
       "      <td>Mailed check</td>\n",
       "      <td>0</td>\n",
       "      <td>1</td>\n",
       "      <td>0</td>\n",
       "      <td>0</td>\n",
       "      <td>0</td>\n",
       "      <td>0</td>\n",
       "      <td>0</td>\n",
       "      <td>1</td>\n",
       "    </tr>\n",
       "  </tbody>\n",
       "</table>\n",
       "<p>5 rows × 22 columns</p>\n",
       "</div>"
      ],
      "text/plain": [
       "   gender  senior_citizen  partner  dependents  tenure  phone_service  \\\n",
       "0       1               0        1           1       9              1   \n",
       "1       0               0        0           0       9              1   \n",
       "2       0               0        0           0       4              1   \n",
       "3       0               1        1           0      13              1   \n",
       "4       1               1        1           0       3              1   \n",
       "\n",
       "   multiple_lines  paperless_billing  monthly_charges  total_charges  ...  \\\n",
       "0               0                  1             65.6         593.30  ...   \n",
       "1               1                  0             59.9         542.40  ...   \n",
       "2               0                  1             73.9         280.85  ...   \n",
       "3               0                  1             98.0        1237.85  ...   \n",
       "4               0                  1             83.9         267.40  ...   \n",
       "\n",
       "   internet_service_type      payment_type  security_backup  \\\n",
       "0                      1      Mailed check                1   \n",
       "1                      1      Mailed check                0   \n",
       "2                      1  Electronic check                0   \n",
       "3                      1  Electronic check                1   \n",
       "4                      1      Mailed check                0   \n",
       "\n",
       "  contract_type_Month-to-month  contract_type_One year  \\\n",
       "0                            0                       1   \n",
       "1                            1                       0   \n",
       "2                            1                       0   \n",
       "3                            1                       0   \n",
       "4                            1                       0   \n",
       "\n",
       "   contract_type_Two year  payment_type_Bank transfer (automatic)  \\\n",
       "0                       0                                       0   \n",
       "1                       0                                       0   \n",
       "2                       0                                       0   \n",
       "3                       0                                       0   \n",
       "4                       0                                       0   \n",
       "\n",
       "   payment_type_Credit card (automatic)  payment_type_Electronic check  \\\n",
       "0                                     0                              0   \n",
       "1                                     0                              0   \n",
       "2                                     0                              1   \n",
       "3                                     0                              1   \n",
       "4                                     0                              0   \n",
       "\n",
       "   payment_type_Mailed check  \n",
       "0                          1  \n",
       "1                          1  \n",
       "2                          0  \n",
       "3                          0  \n",
       "4                          1  \n",
       "\n",
       "[5 rows x 22 columns]"
      ]
     },
     "execution_count": 6,
     "metadata": {},
     "output_type": "execute_result"
    }
   ],
   "source": [
    "show.head()"
   ]
  },
  {
   "cell_type": "code",
   "execution_count": null,
   "id": "1a265167",
   "metadata": {},
   "outputs": [],
   "source": [
    "#chart_tested_telco['security_backup'] = ((chart_tested_telco['online_security'] == 'Yes') | (chart_tested_telco['online_backup'] == 'Yes')).astype(int)"
   ]
  },
  {
   "cell_type": "code",
   "execution_count": null,
   "id": "8a2daa58",
   "metadata": {},
   "outputs": [],
   "source": [
    "#chart_tested_telco['streaming_service'] = ((chart_tested_telco['streaming_tv'] == 'Yes') | (chart_tested_telco['streaming_movies'] == 'Yes')).astype(int)"
   ]
  },
  {
   "cell_type": "code",
   "execution_count": null,
   "id": "1caacccc",
   "metadata": {},
   "outputs": [],
   "source": [
    "chart_tested_telco.payment_type.unique() #Break into two columns, check and automatic"
   ]
  },
  {
   "cell_type": "code",
   "execution_count": null,
   "id": "3dcc6b56",
   "metadata": {},
   "outputs": [],
   "source": []
  },
  {
   "cell_type": "code",
   "execution_count": null,
   "id": "4f59cc89",
   "metadata": {},
   "outputs": [],
   "source": [
    "#yo = pd.get_dummies(show[[\"payment_type\"]],columns=[\"payment_type\"],dtype=\"int\")"
   ]
  },
  {
   "cell_type": "code",
   "execution_count": null,
   "id": "57e6f0d6",
   "metadata": {},
   "outputs": [],
   "source": [
    "yo"
   ]
  },
  {
   "cell_type": "code",
   "execution_count": null,
   "id": "b3b1edeb",
   "metadata": {},
   "outputs": [],
   "source": [
    "#pd.get_dummies(chart_tested_telco[[\"contract_type\"]],columns=[\"contract_type\"],dtype=int)"
   ]
  },
  {
   "cell_type": "code",
   "execution_count": null,
   "id": "04989ee4",
   "metadata": {},
   "outputs": [],
   "source": []
  },
  {
   "cell_type": "code",
   "execution_count": null,
   "id": "f74fa330",
   "metadata": {},
   "outputs": [],
   "source": [
    "# import pandas as pd\n",
    "\n",
    "# chart_tested_telco = chart_tested_telco\n",
    "\n",
    "# payment_type_dummies = pd.get_dummies(chart_tested_telco[\"payment_type\"], columns=[\"payment_type\"], dtype=\"int\")\n",
    "\n",
    "\n",
    "# yo = pd.concat([chart_tested_telco, payment_type_dummies], axis=1)\n"
   ]
  },
  {
   "cell_type": "code",
   "execution_count": null,
   "id": "44fa31a4",
   "metadata": {},
   "outputs": [],
   "source": [
    "\n",
    "# dummy_df = pd.get_dummies(show[[\"contract_type\"]], columns=[\"contract_type\"], dtype=int)\n",
    "# # Concatenate the original DataFrame and the dummy variables DataFrame along the columns\n",
    "# result_df = pd.concat([show, dummy_df], axis=1)\n",
    "\n",
    "# # Display the result\n",
    "# print(result_df)\n"
   ]
  },
  {
   "cell_type": "code",
   "execution_count": null,
   "id": "cad839bd",
   "metadata": {},
   "outputs": [],
   "source": []
  },
  {
   "cell_type": "code",
   "execution_count": null,
   "id": "e70acc73",
   "metadata": {},
   "outputs": [],
   "source": [
    "print(chart_tested_telco.head())"
   ]
  },
  {
   "cell_type": "code",
   "execution_count": null,
   "id": "437801f1",
   "metadata": {},
   "outputs": [],
   "source": [
    "chart_tested_telco.head()"
   ]
  },
  {
   "cell_type": "code",
   "execution_count": null,
   "id": "b7040ee1",
   "metadata": {},
   "outputs": [],
   "source": [
    "chart_tested_telco.dtypes"
   ]
  },
  {
   "cell_type": "code",
   "execution_count": null,
   "id": "9f496da4",
   "metadata": {},
   "outputs": [],
   "source": [
    "charts = charts_telco(get_telco_data)"
   ]
  },
  {
   "cell_type": "code",
   "execution_count": null,
   "id": "c46b077e",
   "metadata": {},
   "outputs": [],
   "source": [
    "#show.dtypes"
   ]
  },
  {
   "cell_type": "code",
   "execution_count": null,
   "id": "25f95bb6",
   "metadata": {},
   "outputs": [],
   "source": [
    "chart_tested_telco.internet_service_type.value_counts()# change into yes,no"
   ]
  },
  {
   "cell_type": "code",
   "execution_count": null,
   "id": "08ef6256",
   "metadata": {},
   "outputs": [],
   "source": [
    "chart_tested_telco.internet_service_type = chart_tested_telco.internet_service_type.map({'No internet service': 0, 'DSL': 1, 'Fiber optic': 1})"
   ]
  },
  {
   "cell_type": "code",
   "execution_count": null,
   "id": "5b02b71c",
   "metadata": {},
   "outputs": [],
   "source": [
    "chart_tested_telco.multiple_lines = chart_tested_telco.multiple_lines.map({'No phone service': 0, 'No': 0, 'Yes': 1})"
   ]
  },
  {
   "cell_type": "code",
   "execution_count": null,
   "id": "ff307c3a",
   "metadata": {},
   "outputs": [],
   "source": [
    "chart_tested_telco.multiple_lines.unique() #change into yes,no"
   ]
  },
  {
   "cell_type": "code",
   "execution_count": null,
   "id": "672eb2f2",
   "metadata": {},
   "outputs": [],
   "source": []
  },
  {
   "cell_type": "code",
   "execution_count": null,
   "id": "8ebc0d8f",
   "metadata": {},
   "outputs": [],
   "source": []
  },
  {
   "cell_type": "code",
   "execution_count": null,
   "id": "4e973faa",
   "metadata": {},
   "outputs": [],
   "source": [
    "chart_tested_telco.contract_type.value_counts()"
   ]
  },
  {
   "cell_type": "code",
   "execution_count": null,
   "id": "7f28bf67",
   "metadata": {},
   "outputs": [],
   "source": [
    "features = ['senior_citizen']\n",
    "X_train[features].head()"
   ]
  },
  {
   "cell_type": "code",
   "execution_count": null,
   "id": "5936509c",
   "metadata": {},
   "outputs": [],
   "source": [
    "#make it\n",
    "lr = LogisticRegression()\n",
    "\n",
    "#fit it\n",
    "lr.fit(X_train[features], y_train)"
   ]
  },
  {
   "cell_type": "code",
   "execution_count": null,
   "id": "96c85d64",
   "metadata": {},
   "outputs": [],
   "source": [
    "lr.score(X_train[features], y_train)"
   ]
  },
  {
   "cell_type": "code",
   "execution_count": null,
   "id": "2a3f19ba",
   "metadata": {},
   "outputs": [],
   "source": []
  },
  {
   "cell_type": "code",
   "execution_count": null,
   "id": "c3f4bdc2",
   "metadata": {},
   "outputs": [],
   "source": []
  },
  {
   "cell_type": "code",
   "execution_count": null,
   "id": "77f7d36a",
   "metadata": {},
   "outputs": [],
   "source": [
    "chart_tested_telco.contract_type.value_counts()"
   ]
  },
  {
   "cell_type": "code",
   "execution_count": null,
   "id": "a99cc20c",
   "metadata": {},
   "outputs": [],
   "source": []
  },
  {
   "cell_type": "code",
   "execution_count": null,
   "id": "c0456d0f",
   "metadata": {},
   "outputs": [],
   "source": [
    "charts.dtypes"
   ]
  },
  {
   "cell_type": "code",
   "execution_count": null,
   "id": "baa3a6e4",
   "metadata": {},
   "outputs": [],
   "source": [
    "get_telco_data.set_index(\"customer_id\")"
   ]
  },
  {
   "cell_type": "code",
   "execution_count": null,
   "id": "ad403051",
   "metadata": {},
   "outputs": [],
   "source": [
    "show.isna().sum()"
   ]
  },
  {
   "cell_type": "code",
   "execution_count": null,
   "id": "bb982319",
   "metadata": {},
   "outputs": [],
   "source": [
    "#show[\"gender\"] = show.gender.map({\"Male\":0,\"Female\":1}).astype(int)"
   ]
  },
  {
   "cell_type": "code",
   "execution_count": null,
   "id": "403b52a9",
   "metadata": {},
   "outputs": [],
   "source": [
    "#chart_tested_telco = chart_tested_telco.drop(columns=[\"streaming_tv\",\"streaming_movies\",\"online_backup\",\"online_security\"])"
   ]
  },
  {
   "cell_type": "code",
   "execution_count": null,
   "id": "c5846351",
   "metadata": {},
   "outputs": [],
   "source": [
    "#chart_tested_telco = chart_tested_telco.drop(columns=[\"device_protection\",\"tech_support\"])"
   ]
  },
  {
   "cell_type": "code",
   "execution_count": null,
   "id": "9a51bbd2",
   "metadata": {},
   "outputs": [],
   "source": [
    "show.head()"
   ]
  },
  {
   "cell_type": "code",
   "execution_count": 7,
   "id": "421af74a",
   "metadata": {},
   "outputs": [],
   "source": []
  },
  {
   "cell_type": "code",
   "execution_count": null,
   "id": "4ced6a93",
   "metadata": {},
   "outputs": [],
   "source": [
    "chart_trained_telco,chart_validated_telco,chart_tested_telco = chop_data(charts,\"churn\")"
   ]
  },
  {
   "cell_type": "code",
   "execution_count": null,
   "id": "17d0022e",
   "metadata": {},
   "outputs": [],
   "source": [
    "trained_telco.shape"
   ]
  },
  {
   "cell_type": "code",
   "execution_count": null,
   "id": "6172c7f4",
   "metadata": {},
   "outputs": [],
   "source": [
    "# looking at the null values:\n",
    "trained_telco.isna().sum()"
   ]
  },
  {
   "cell_type": "code",
   "execution_count": null,
   "id": "1fb87ee9",
   "metadata": {},
   "outputs": [],
   "source": [
    "#trained_telco.fillna()"
   ]
  },
  {
   "cell_type": "code",
   "execution_count": null,
   "id": "99e02367",
   "metadata": {},
   "outputs": [],
   "source": [
    "trained_telco.head()"
   ]
  },
  {
   "cell_type": "code",
   "execution_count": null,
   "id": "f9d57d12",
   "metadata": {},
   "outputs": [],
   "source": [
    "for column in trained_telco.columns: # Tells nulls in data\n",
    "     print(f\"Null values in column '{column}': {trained_telco[column].isna().sum()}\")\n"
   ]
  },
  {
   "cell_type": "code",
   "execution_count": null,
   "id": "fb6b9817",
   "metadata": {},
   "outputs": [],
   "source": [
    "for column in trained_telco.columns: #Gives an idea categorical or continuous\n",
    "     print(f\"These are the values in this column '{column}': {trained_telco[column].unique()}\")"
   ]
  },
  {
   "cell_type": "code",
   "execution_count": null,
   "id": "5dac1953",
   "metadata": {},
   "outputs": [],
   "source": [
    "validated_telco.head()"
   ]
  },
  {
   "cell_type": "code",
   "execution_count": null,
   "id": "917ac2e3",
   "metadata": {},
   "outputs": [],
   "source": []
  },
  {
   "cell_type": "code",
   "execution_count": null,
   "id": "3b80eb39",
   "metadata": {},
   "outputs": [],
   "source": [
    "#validated_telco.internet_service_type = validated_telco.internet_service_type.fillna(\"No internet service\")"
   ]
  },
  {
   "cell_type": "code",
   "execution_count": null,
   "id": "b9e3dc08",
   "metadata": {},
   "outputs": [],
   "source": [
    "#trained_telco[['is_queenstown', 'is_southampton']] = pd.get_dummies(trained_telco.internet_service_type).astype(int)"
   ]
  },
  {
   "cell_type": "code",
   "execution_count": null,
   "id": "dbf095e0",
   "metadata": {},
   "outputs": [],
   "source": [
    "#show[\"internet_service_type\"] = show.internet_service_type.map({\"DSL\":0,\"Fiber Optic\":1}).astype(int)"
   ]
  },
  {
   "cell_type": "code",
   "execution_count": null,
   "id": "e7f22985",
   "metadata": {},
   "outputs": [],
   "source": [
    "#show[\"dependents\"] = show.dependents.map({\"No\":0,\"Yes\":1}).astype(int)"
   ]
  },
  {
   "cell_type": "code",
   "execution_count": null,
   "id": "2bb4575f",
   "metadata": {},
   "outputs": [],
   "source": [
    "#show[\"multiple_lines\"] = show.multiple_lines.map({\"No\":0,\"Yes\":1}).astype(int)"
   ]
  },
  {
   "cell_type": "code",
   "execution_count": null,
   "id": "3383cd0b",
   "metadata": {},
   "outputs": [],
   "source": [
    "#show.fillna"
   ]
  },
  {
   "cell_type": "code",
   "execution_count": null,
   "id": "90c9bed9",
   "metadata": {},
   "outputs": [],
   "source": [
    "#show[\"paperless_billing\"] = show.paperless_billing.map({\"No\":0,\"Yes\":1}).astype(int)"
   ]
  },
  {
   "cell_type": "code",
   "execution_count": null,
   "id": "21b57cc1",
   "metadata": {},
   "outputs": [],
   "source": [
    "#pd.get_dummies(trained_telco.internet_service_type).astype(int) #.isnull() #ONEHOT"
   ]
  },
  {
   "cell_type": "code",
   "execution_count": null,
   "id": "b3f6576e",
   "metadata": {},
   "outputs": [],
   "source": [
    "\n",
    "plt.title(\"Do people with kids churn faster than without\")\n",
    "sns.barplot(y=\"monthly_charges\", x=\"churn\", data=chart_trained_telco)\n",
    "# churn_rate = trained_telco.churn.mean()\n",
    "# plt.axhline(churn_rate)\n",
    "plt.show()"
   ]
  },
  {
   "cell_type": "code",
   "execution_count": null,
   "id": "868a9c47",
   "metadata": {},
   "outputs": [],
   "source": [
    "with_kids__churn_rate = pd.crosstab(columns=trained_telco.dependents,index=trained_telco.churn)"
   ]
  },
  {
   "cell_type": "code",
   "execution_count": null,
   "id": "6915f6ae",
   "metadata": {},
   "outputs": [],
   "source": [
    "with_kids__churn_rate"
   ]
  },
  {
   "cell_type": "code",
   "execution_count": null,
   "id": "0d31e10f",
   "metadata": {},
   "outputs": [],
   "source": [
    "chi2, p, degf, expected = stats.chi2_contingency(with_kids__churn_rate)"
   ]
  },
  {
   "cell_type": "code",
   "execution_count": null,
   "id": "7826a7eb",
   "metadata": {},
   "outputs": [],
   "source": [
    "p # reject null"
   ]
  },
  {
   "cell_type": "code",
   "execution_count": 8,
   "id": "bed69dd2",
   "metadata": {},
   "outputs": [],
   "source": [
    "classy = DecisionTreeClassifier"
   ]
  },
  {
   "cell_type": "code",
   "execution_count": null,
   "id": "8ac9f08e",
   "metadata": {},
   "outputs": [],
   "source": [
    "# import seaborn as sns\n",
    "# import matplotlib.pyplot as plt\n",
    "\n",
    "# # # Assuming you have your own DataFrame named chart_trained_telco\n",
    "# # # Replace ... with the actual variable holding your DataFrame\n",
    "# # chart_trained_telco = chart_trained_telco\n",
    "\n",
    "# # # Check if the required columns are present in the DataFrame\n",
    "# # required_columns = ['dependents', 'monthly_charges', 'churn']\n",
    "# # if not all(column in chart_trained_telco.columns for column in required_columns):\n",
    "# #     raise ValueError(\"Ensure that your DataFrame has the required columns: 'dependents', 'monthly_charges', 'churn'.\")\n",
    "\n",
    "# # # Check if values in the 'churn' column are valid\n",
    "# # valid_churn_values = {'Yes', 'No'}\n",
    "# # if not set(chart_trained_telco['churn']).issubset(valid_churn_values):\n",
    "# #     raise ValueError(\"Values in the 'churn' column should be either 'Yes' or 'No'.\")\n",
    "\n",
    "# # Calculate a common range for 'monthly_charges'\n",
    "# common_monthly_charges_range = chart_trained_telco['monthly_charges'].min(), chart_trained_telco['monthly_charges'].max()\n",
    "\n",
    "# # Plotting separate bar plots for \"Yes\" and \"No\" churn values\n",
    "# plt.figure(figsize=(11, 8))\n",
    "\n",
    "# plt.subplot(1, 2, 1)\n",
    "# sns.barplot(x=\"dependents\", y=\"monthly_charges\", data=chart_trained_telco[chart_trained_telco['churn'] == 'Yes'], ci=None)\n",
    "# plt.title(\"Churn: Yes\")\n",
    "# plt.xlabel(\"Dependents\")\n",
    "# plt.ylabel(\"Monthly Charges\")\n",
    "# plt.ylim(common_monthly_charges_range)  # Set y-axis limit to common range\n",
    "\n",
    "# plt.subplot(1, 2, 2)\n",
    "# sns.barplot(x=\"dependents\", y=\"monthly_charges\", data=chart_trained_telco[chart_trained_telco['churn'] == 'No'], ci=None)\n",
    "# plt.title(\"Churn: No\")\n",
    "# plt.xlabel(\"Dependents\")\n",
    "# plt.ylabel(\"Monthly Charges\")\n",
    "# plt.ylim(common_monthly_charges_range)  # Set y-axis limit to common range\n",
    "\n",
    "# plt.suptitle(\"Do people with kids churn faster than without\", y=1.02)\n",
    "# #plt.tight_layout()\n",
    "# plt.show()\n"
   ]
  },
  {
   "cell_type": "code",
   "execution_count": null,
   "id": "dd37f599",
   "metadata": {},
   "outputs": [],
   "source": [
    "classy.fit(X_train,y_train)"
   ]
  },
  {
   "cell_type": "code",
   "execution_count": null,
   "id": "2c7213a1",
   "metadata": {},
   "outputs": [],
   "source": [
    "\n",
    "\n",
    "# # Check if the required columns are present in the DataFrame\n",
    "# required_columns = ['dependents', 'monthly_charges', 'churn']\n",
    "# if not all(column in chart_trained_telco.columns for column in required_columns):\n",
    "#     raise ValueError(\"Ensure that your DataFrame has the required columns: 'dependents', 'monthly_charges', 'churn'.\")\n",
    "\n",
    "# # Check if values in the 'churn' column are valid\n",
    "# valid_churn_values = {'Yes', 'No'}\n",
    "# if not set(chart_trained_telco['churn']).issubset(valid_churn_values):\n",
    "#     raise ValueError(\"Values in the 'churn' column should be either 'Yes' or 'No'.\")\n",
    "\n",
    "# # Plotting separate bar plots for \"Yes\" and \"No\" churn values\n",
    "# plt.figure(figsize=(12, 6))\n",
    "\n",
    "# plt.subplot(1, 2, 1)\n",
    "# sns.barplot(x=\"dependents\", y=\"monthly_charges\", data=chart_trained_telco[chart_trained_telco['churn'] == 'Yes'])\n",
    "# plt.title(\"Churn: Yes\")\n",
    "# plt.xlabel(\"Dependents\")\n",
    "# plt.ylabel(\"Monthly Charges\")\n",
    "\n",
    "# plt.subplot(1, 2, 2)\n",
    "# sns.barplot(x=\"dependents\", y=\"monthly_charges\", data=chart_trained_telco[chart_trained_telco['churn'] == 'No'])\n",
    "# plt.title(\"Churn: No\")\n",
    "# plt.xlabel(\"Dependents\")\n",
    "# plt.ylabel(\"Monthly Charges\")\n",
    "\n",
    "# plt.suptitle(\"Do people with kids churn faster than without\", y=1.02)\n",
    "# plt.tight_layout()\n",
    "# plt.show()\n"
   ]
  },
  {
   "cell_type": "markdown",
   "id": "76097aab",
   "metadata": {},
   "source": [
    "Does being a senior citizen affect churn rate as monthyly charges increase?"
   ]
  },
  {
   "cell_type": "code",
   "execution_count": null,
   "id": "33f15dc0",
   "metadata": {},
   "outputs": [],
   "source": [
    "sns.barplot(data=validated_telco, y=\"monthly_charges\", x='senior_citizen') #check data senior citizens have higher charges ?? also look at churn rate\n",
    "plt.show()"
   ]
  },
  {
   "cell_type": "code",
   "execution_count": null,
   "id": "2c08227c",
   "metadata": {},
   "outputs": [],
   "source": [
    "senior_churn_rate = pd.crosstab(columns=trained_telco.senior_citizen,index=trained_telco.churn)"
   ]
  },
  {
   "cell_type": "code",
   "execution_count": null,
   "id": "38cae4cd",
   "metadata": {},
   "outputs": [],
   "source": [
    "chi2, p, degf, expected = stats.chi2_contingency(senior_churn_rate)"
   ]
  },
  {
   "cell_type": "code",
   "execution_count": null,
   "id": "c3f4c7f1",
   "metadata": {},
   "outputs": [],
   "source": [
    "p"
   ]
  },
  {
   "cell_type": "markdown",
   "id": "4da72a56",
   "metadata": {},
   "source": [
    "f p < alpha:\n",
    "    print(\"Reject the null hypothesis that\", null_hypothesis)\n",
    "    print(\"Sufficient evidence to move forward understanding that\", alternative_hypothesis)\n",
    "else:"
   ]
  },
  {
   "cell_type": "code",
   "execution_count": null,
   "id": "e78879ee",
   "metadata": {},
   "outputs": [],
   "source": [
    "import seaborn as sns\n",
    "import matplotlib.pyplot as plt\n",
    "\n",
    "# Assuming you have a DataFrame called trained_telco\n",
    "sns.heatmap(pd.crosstab(trained_telco['senior_citizen'], pd.cut(trained_telco['monthly_charges'], bins=10), normalize='index'), annot=True, cmap='Greens')\n",
    "\n",
    "plt.title('Churn Rates by Monthly Charges and Senior Citizen Status')\n",
    "plt.xlabel('Monthly Charges')\n",
    "plt.ylabel('Senior Citizen')\n",
    "plt.show()\n"
   ]
  },
  {
   "cell_type": "code",
   "execution_count": 11,
   "id": "890afec2",
   "metadata": {},
   "outputs": [],
   "source": [
    "y_train = trained_telco.churn"
   ]
  },
  {
   "cell_type": "code",
   "execution_count": null,
   "id": "1ff415a3",
   "metadata": {},
   "outputs": [],
   "source": [
    "y_train.mode()#BASELINE"
   ]
  },
  {
   "cell_type": "code",
   "execution_count": null,
   "id": "005cb2fe",
   "metadata": {},
   "outputs": [],
   "source": [
    "(y_train == 0).mean()"
   ]
  },
  {
   "cell_type": "code",
   "execution_count": null,
   "id": "ecb9780d",
   "metadata": {},
   "outputs": [],
   "source": [
    "y_train.value_counts(normalize=True)[0]#BASELINE ACCURACY"
   ]
  },
  {
   "cell_type": "code",
   "execution_count": null,
   "id": "71fefff5",
   "metadata": {},
   "outputs": [],
   "source": [
    "trained_telco.churn.unique()"
   ]
  },
  {
   "cell_type": "code",
   "execution_count": 9,
   "id": "635a79f1",
   "metadata": {},
   "outputs": [],
   "source": [
    "X_train = trained_telco.drop(columns=\"churn\") "
   ]
  },
  {
   "cell_type": "code",
   "execution_count": 10,
   "id": "1e3f1896",
   "metadata": {},
   "outputs": [
    {
     "data": {
      "text/html": [
       "<div>\n",
       "<style scoped>\n",
       "    .dataframe tbody tr th:only-of-type {\n",
       "        vertical-align: middle;\n",
       "    }\n",
       "\n",
       "    .dataframe tbody tr th {\n",
       "        vertical-align: top;\n",
       "    }\n",
       "\n",
       "    .dataframe thead th {\n",
       "        text-align: right;\n",
       "    }\n",
       "</style>\n",
       "<table border=\"1\" class=\"dataframe\">\n",
       "  <thead>\n",
       "    <tr style=\"text-align: right;\">\n",
       "      <th></th>\n",
       "      <th>gender</th>\n",
       "      <th>senior_citizen</th>\n",
       "      <th>partner</th>\n",
       "      <th>dependents</th>\n",
       "      <th>tenure</th>\n",
       "      <th>phone_service</th>\n",
       "      <th>multiple_lines</th>\n",
       "      <th>paperless_billing</th>\n",
       "      <th>monthly_charges</th>\n",
       "      <th>total_charges</th>\n",
       "      <th>...</th>\n",
       "      <th>internet_service_type</th>\n",
       "      <th>payment_type</th>\n",
       "      <th>security_backup</th>\n",
       "      <th>contract_type_Month-to-month</th>\n",
       "      <th>contract_type_One year</th>\n",
       "      <th>contract_type_Two year</th>\n",
       "      <th>payment_type_Bank transfer (automatic)</th>\n",
       "      <th>payment_type_Credit card (automatic)</th>\n",
       "      <th>payment_type_Electronic check</th>\n",
       "      <th>payment_type_Mailed check</th>\n",
       "    </tr>\n",
       "  </thead>\n",
       "  <tbody>\n",
       "    <tr>\n",
       "      <th>2865</th>\n",
       "      <td>1</td>\n",
       "      <td>1</td>\n",
       "      <td>1</td>\n",
       "      <td>0</td>\n",
       "      <td>38</td>\n",
       "      <td>1</td>\n",
       "      <td>1</td>\n",
       "      <td>0</td>\n",
       "      <td>95.00</td>\n",
       "      <td>3591.25</td>\n",
       "      <td>...</td>\n",
       "      <td>1</td>\n",
       "      <td>Credit card (automatic)</td>\n",
       "      <td>1</td>\n",
       "      <td>0</td>\n",
       "      <td>1</td>\n",
       "      <td>0</td>\n",
       "      <td>0</td>\n",
       "      <td>1</td>\n",
       "      <td>0</td>\n",
       "      <td>0</td>\n",
       "    </tr>\n",
       "    <tr>\n",
       "      <th>4107</th>\n",
       "      <td>1</td>\n",
       "      <td>1</td>\n",
       "      <td>0</td>\n",
       "      <td>0</td>\n",
       "      <td>2</td>\n",
       "      <td>1</td>\n",
       "      <td>0</td>\n",
       "      <td>1</td>\n",
       "      <td>70.35</td>\n",
       "      <td>139.05</td>\n",
       "      <td>...</td>\n",
       "      <td>1</td>\n",
       "      <td>Electronic check</td>\n",
       "      <td>0</td>\n",
       "      <td>1</td>\n",
       "      <td>0</td>\n",
       "      <td>0</td>\n",
       "      <td>0</td>\n",
       "      <td>0</td>\n",
       "      <td>1</td>\n",
       "      <td>0</td>\n",
       "    </tr>\n",
       "    <tr>\n",
       "      <th>3453</th>\n",
       "      <td>0</td>\n",
       "      <td>1</td>\n",
       "      <td>1</td>\n",
       "      <td>0</td>\n",
       "      <td>11</td>\n",
       "      <td>1</td>\n",
       "      <td>0</td>\n",
       "      <td>0</td>\n",
       "      <td>19.95</td>\n",
       "      <td>214.75</td>\n",
       "      <td>...</td>\n",
       "      <td>0</td>\n",
       "      <td>Mailed check</td>\n",
       "      <td>0</td>\n",
       "      <td>1</td>\n",
       "      <td>0</td>\n",
       "      <td>0</td>\n",
       "      <td>0</td>\n",
       "      <td>0</td>\n",
       "      <td>0</td>\n",
       "      <td>1</td>\n",
       "    </tr>\n",
       "    <tr>\n",
       "      <th>923</th>\n",
       "      <td>0</td>\n",
       "      <td>0</td>\n",
       "      <td>0</td>\n",
       "      <td>0</td>\n",
       "      <td>10</td>\n",
       "      <td>1</td>\n",
       "      <td>1</td>\n",
       "      <td>1</td>\n",
       "      <td>86.05</td>\n",
       "      <td>834.10</td>\n",
       "      <td>...</td>\n",
       "      <td>1</td>\n",
       "      <td>Bank transfer (automatic)</td>\n",
       "      <td>0</td>\n",
       "      <td>1</td>\n",
       "      <td>0</td>\n",
       "      <td>0</td>\n",
       "      <td>1</td>\n",
       "      <td>0</td>\n",
       "      <td>0</td>\n",
       "      <td>0</td>\n",
       "    </tr>\n",
       "    <tr>\n",
       "      <th>2370</th>\n",
       "      <td>0</td>\n",
       "      <td>0</td>\n",
       "      <td>0</td>\n",
       "      <td>0</td>\n",
       "      <td>43</td>\n",
       "      <td>1</td>\n",
       "      <td>0</td>\n",
       "      <td>1</td>\n",
       "      <td>60.00</td>\n",
       "      <td>2548.55</td>\n",
       "      <td>...</td>\n",
       "      <td>1</td>\n",
       "      <td>Electronic check</td>\n",
       "      <td>1</td>\n",
       "      <td>0</td>\n",
       "      <td>0</td>\n",
       "      <td>1</td>\n",
       "      <td>0</td>\n",
       "      <td>0</td>\n",
       "      <td>1</td>\n",
       "      <td>0</td>\n",
       "    </tr>\n",
       "  </tbody>\n",
       "</table>\n",
       "<p>5 rows × 21 columns</p>\n",
       "</div>"
      ],
      "text/plain": [
       "      gender  senior_citizen  partner  dependents  tenure  phone_service  \\\n",
       "2865       1               1        1           0      38              1   \n",
       "4107       1               1        0           0       2              1   \n",
       "3453       0               1        1           0      11              1   \n",
       "923        0               0        0           0      10              1   \n",
       "2370       0               0        0           0      43              1   \n",
       "\n",
       "      multiple_lines  paperless_billing  monthly_charges  total_charges  ...  \\\n",
       "2865               1                  0            95.00        3591.25  ...   \n",
       "4107               0                  1            70.35         139.05  ...   \n",
       "3453               0                  0            19.95         214.75  ...   \n",
       "923                1                  1            86.05         834.10  ...   \n",
       "2370               0                  1            60.00        2548.55  ...   \n",
       "\n",
       "     internet_service_type               payment_type security_backup  \\\n",
       "2865                     1    Credit card (automatic)               1   \n",
       "4107                     1           Electronic check               0   \n",
       "3453                     0               Mailed check               0   \n",
       "923                      1  Bank transfer (automatic)               0   \n",
       "2370                     1           Electronic check               1   \n",
       "\n",
       "      contract_type_Month-to-month  contract_type_One year  \\\n",
       "2865                             0                       1   \n",
       "4107                             1                       0   \n",
       "3453                             1                       0   \n",
       "923                              1                       0   \n",
       "2370                             0                       0   \n",
       "\n",
       "      contract_type_Two year  payment_type_Bank transfer (automatic)  \\\n",
       "2865                       0                                       0   \n",
       "4107                       0                                       0   \n",
       "3453                       0                                       0   \n",
       "923                        0                                       1   \n",
       "2370                       1                                       0   \n",
       "\n",
       "      payment_type_Credit card (automatic)  payment_type_Electronic check  \\\n",
       "2865                                     1                              0   \n",
       "4107                                     0                              1   \n",
       "3453                                     0                              0   \n",
       "923                                      0                              0   \n",
       "2370                                     0                              1   \n",
       "\n",
       "      payment_type_Mailed check  \n",
       "2865                          0  \n",
       "4107                          0  \n",
       "3453                          1  \n",
       "923                           0  \n",
       "2370                          0  \n",
       "\n",
       "[5 rows x 21 columns]"
      ]
     },
     "execution_count": 10,
     "metadata": {},
     "output_type": "execute_result"
    }
   ],
   "source": [
    "X_train.head()"
   ]
  },
  {
   "cell_type": "code",
   "execution_count": 2,
   "id": "df1d21b5",
   "metadata": {},
   "outputs": [
    {
     "ename": "NameError",
     "evalue": "name 'DecisionTreeClassifier' is not defined",
     "output_type": "error",
     "traceback": [
      "\u001b[0;31m---------------------------------------------------------------------------\u001b[0m",
      "\u001b[0;31mNameError\u001b[0m                                 Traceback (most recent call last)",
      "Cell \u001b[0;32mIn[2], line 1\u001b[0m\n\u001b[0;32m----> 1\u001b[0m classy \u001b[38;5;241m=\u001b[39m DecisionTreeClassifier()\n",
      "\u001b[0;31mNameError\u001b[0m: name 'DecisionTreeClassifier' is not defined"
     ]
    }
   ],
   "source": [
    "classy = DecisionTreeClassifier()"
   ]
  },
  {
   "cell_type": "code",
   "execution_count": null,
   "id": "cacfb2bd",
   "metadata": {},
   "outputs": [],
   "source": [
    "neeb = KNeighborsClassifier()"
   ]
  },
  {
   "cell_type": "code",
   "execution_count": null,
   "id": "9899e2a9",
   "metadata": {},
   "outputs": [],
   "source": [
    "neeb.fit(X_train,y_train)"
   ]
  },
  {
   "cell_type": "code",
   "execution_count": null,
   "id": "77bc7f5c",
   "metadata": {},
   "outputs": [],
   "source": []
  },
  {
   "cell_type": "code",
   "execution_count": 12,
   "id": "03da1099",
   "metadata": {},
   "outputs": [
    {
     "ename": "AttributeError",
     "evalue": "'DataFrame' object has no attribute '_validate_params'",
     "output_type": "error",
     "traceback": [
      "\u001b[0;31m---------------------------------------------------------------------------\u001b[0m",
      "\u001b[0;31mAttributeError\u001b[0m                            Traceback (most recent call last)",
      "\u001b[0;32m/var/folders/17/g_gy_z596rg83372vlvklt3m0000gn/T/ipykernel_2807/3859652262.py\u001b[0m in \u001b[0;36m?\u001b[0;34m()\u001b[0m\n\u001b[0;32m----> 1\u001b[0;31m \u001b[0mclassy\u001b[0m\u001b[0;34m.\u001b[0m\u001b[0mfit\u001b[0m\u001b[0;34m(\u001b[0m\u001b[0mX_train\u001b[0m\u001b[0;34m,\u001b[0m\u001b[0my_train\u001b[0m\u001b[0;34m)\u001b[0m\u001b[0;34m\u001b[0m\u001b[0;34m\u001b[0m\u001b[0m\n\u001b[0m",
      "\u001b[0;32m/opt/homebrew/anaconda3/lib/python3.11/site-packages/sklearn/base.py\u001b[0m in \u001b[0;36m?\u001b[0;34m(estimator, *args, **kwargs)\u001b[0m\n\u001b[1;32m   1140\u001b[0m                 \u001b[0mfit_method\u001b[0m\u001b[0;34m.\u001b[0m\u001b[0m__name__\u001b[0m \u001b[0;34m==\u001b[0m \u001b[0;34m\"partial_fit\"\u001b[0m \u001b[0;32mand\u001b[0m \u001b[0m_is_fitted\u001b[0m\u001b[0;34m(\u001b[0m\u001b[0mestimator\u001b[0m\u001b[0;34m)\u001b[0m\u001b[0;34m\u001b[0m\u001b[0;34m\u001b[0m\u001b[0m\n\u001b[1;32m   1141\u001b[0m             )\n\u001b[1;32m   1142\u001b[0m \u001b[0;34m\u001b[0m\u001b[0m\n\u001b[1;32m   1143\u001b[0m             \u001b[0;32mif\u001b[0m \u001b[0;32mnot\u001b[0m \u001b[0mglobal_skip_validation\u001b[0m \u001b[0;32mand\u001b[0m \u001b[0;32mnot\u001b[0m \u001b[0mpartial_fit_and_fitted\u001b[0m\u001b[0;34m:\u001b[0m\u001b[0;34m\u001b[0m\u001b[0;34m\u001b[0m\u001b[0m\n\u001b[0;32m-> 1144\u001b[0;31m                 \u001b[0mestimator\u001b[0m\u001b[0;34m.\u001b[0m\u001b[0m_validate_params\u001b[0m\u001b[0;34m(\u001b[0m\u001b[0;34m)\u001b[0m\u001b[0;34m\u001b[0m\u001b[0;34m\u001b[0m\u001b[0m\n\u001b[0m\u001b[1;32m   1145\u001b[0m \u001b[0;34m\u001b[0m\u001b[0m\n\u001b[1;32m   1146\u001b[0m             with config_context(\n\u001b[1;32m   1147\u001b[0m                 skip_parameter_validation=(\n",
      "\u001b[0;32m/opt/homebrew/anaconda3/lib/python3.11/site-packages/pandas/core/generic.py\u001b[0m in \u001b[0;36m?\u001b[0;34m(self, name)\u001b[0m\n\u001b[1;32m   6200\u001b[0m             \u001b[0;32mand\u001b[0m \u001b[0mname\u001b[0m \u001b[0;32mnot\u001b[0m \u001b[0;32min\u001b[0m \u001b[0mself\u001b[0m\u001b[0;34m.\u001b[0m\u001b[0m_accessors\u001b[0m\u001b[0;34m\u001b[0m\u001b[0;34m\u001b[0m\u001b[0m\n\u001b[1;32m   6201\u001b[0m             \u001b[0;32mand\u001b[0m \u001b[0mself\u001b[0m\u001b[0;34m.\u001b[0m\u001b[0m_info_axis\u001b[0m\u001b[0;34m.\u001b[0m\u001b[0m_can_hold_identifiers_and_holds_name\u001b[0m\u001b[0;34m(\u001b[0m\u001b[0mname\u001b[0m\u001b[0;34m)\u001b[0m\u001b[0;34m\u001b[0m\u001b[0;34m\u001b[0m\u001b[0m\n\u001b[1;32m   6202\u001b[0m         ):\n\u001b[1;32m   6203\u001b[0m             \u001b[0;32mreturn\u001b[0m \u001b[0mself\u001b[0m\u001b[0;34m[\u001b[0m\u001b[0mname\u001b[0m\u001b[0;34m]\u001b[0m\u001b[0;34m\u001b[0m\u001b[0;34m\u001b[0m\u001b[0m\n\u001b[0;32m-> 6204\u001b[0;31m         \u001b[0;32mreturn\u001b[0m \u001b[0mobject\u001b[0m\u001b[0;34m.\u001b[0m\u001b[0m__getattribute__\u001b[0m\u001b[0;34m(\u001b[0m\u001b[0mself\u001b[0m\u001b[0;34m,\u001b[0m \u001b[0mname\u001b[0m\u001b[0;34m)\u001b[0m\u001b[0;34m\u001b[0m\u001b[0;34m\u001b[0m\u001b[0m\n\u001b[0m",
      "\u001b[0;31mAttributeError\u001b[0m: 'DataFrame' object has no attribute '_validate_params'"
     ]
    }
   ],
   "source": [
    "classy.fit(X_train,y_train)"
   ]
  },
  {
   "cell_type": "code",
   "execution_count": null,
   "id": "1c9debc2",
   "metadata": {},
   "outputs": [],
   "source": []
  },
  {
   "cell_type": "code",
   "execution_count": null,
   "id": "84cb83b2",
   "metadata": {},
   "outputs": [],
   "source": []
  },
  {
   "cell_type": "code",
   "execution_count": null,
   "id": "23e08147",
   "metadata": {},
   "outputs": [],
   "source": []
  },
  {
   "cell_type": "code",
   "execution_count": null,
   "id": "280e7bf6",
   "metadata": {},
   "outputs": [],
   "source": [
    "#chart_tested_telco['protection_services'] = ((chart_tested_telco['device_protection'] == 'Yes') | (chart_tested_telco['tech_support'] == 'Yes')).astype(int)"
   ]
  },
  {
   "cell_type": "code",
   "execution_count": null,
   "id": "061a201d",
   "metadata": {},
   "outputs": [],
   "source": []
  },
  {
   "cell_type": "code",
   "execution_count": null,
   "id": "c07fe6e0",
   "metadata": {},
   "outputs": [],
   "source": []
  },
  {
   "cell_type": "code",
   "execution_count": null,
   "id": "bfc7c0d9",
   "metadata": {},
   "outputs": [],
   "source": []
  },
  {
   "cell_type": "code",
   "execution_count": null,
   "id": "a5c661ba",
   "metadata": {},
   "outputs": [],
   "source": []
  },
  {
   "cell_type": "code",
   "execution_count": null,
   "id": "42b8cc57",
   "metadata": {},
   "outputs": [],
   "source": [
    "# sns.boxplot(data=validated_telco, x='monthly_charges', y='churn')\n",
    "# plt.show()"
   ]
  },
  {
   "cell_type": "code",
   "execution_count": null,
   "id": "59da0782",
   "metadata": {},
   "outputs": [],
   "source": [
    "# color_map = {\"Yes\": \"green\", \"No\": \"red\", \"No internet service\": \"yellow\"}\n",
    "\n",
    "# grouped_data = trained_telco.groupby(['churn', 'online_security']).size().unstack()\n",
    "# grouped_data.plot(kind='bar', color=[color_map.get(col, col) for col in grouped_data.columns])\n",
    "\n",
    "# # Adding labels and title for better readability\n",
    "# plt.title('Churn w.r.t Online Security')\n",
    "# plt.xlabel('Churn')\n",
    "# plt.ylabel('Count')\n",
    "\n",
    "# # Show the plot\n",
    "plt.show()"
   ]
  },
  {
   "cell_type": "code",
   "execution_count": null,
   "id": "c91143a4",
   "metadata": {},
   "outputs": [],
   "source": []
  },
  {
   "cell_type": "code",
   "execution_count": null,
   "id": "41b3a598",
   "metadata": {},
   "outputs": [],
   "source": [
    "#show.multiple_lines.value_counts()"
   ]
  },
  {
   "cell_type": "code",
   "execution_count": null,
   "id": "a00c3dee",
   "metadata": {},
   "outputs": [],
   "source": [
    "#show[\"online_backup\"] = show.online_backup.map({\"No\":0,\"Yes\":1}).astype(int)"
   ]
  },
  {
   "cell_type": "code",
   "execution_count": null,
   "id": "cd35c0f4",
   "metadata": {},
   "outputs": [],
   "source": [
    "#show.online_backup.value_counts()"
   ]
  },
  {
   "cell_type": "code",
   "execution_count": null,
   "id": "44878e1d",
   "metadata": {},
   "outputs": [],
   "source": [
    "#show.online_security.value_counts()"
   ]
  },
  {
   "cell_type": "code",
   "execution_count": null,
   "id": "bbd03e28",
   "metadata": {},
   "outputs": [],
   "source": [
    "#show.internet_service_type.value_counts()"
   ]
  },
  {
   "cell_type": "code",
   "execution_count": null,
   "id": "9b02a24b",
   "metadata": {},
   "outputs": [],
   "source": [
    "#show.internet_service_type.count()"
   ]
  },
  {
   "cell_type": "code",
   "execution_count": null,
   "id": "56f21050",
   "metadata": {},
   "outputs": [],
   "source": [
    "#show[\"internet_service_type\"] = show.internet_service_type.map({\"Fiber optic\":1,\"DSL\":0}).astype(int)"
   ]
  },
  {
   "cell_type": "code",
   "execution_count": null,
   "id": "caa5775e",
   "metadata": {},
   "outputs": [],
   "source": [
    "#len(show.isnull().sum() > 0) #null look at"
   ]
  },
  {
   "cell_type": "code",
   "execution_count": null,
   "id": "8a8915c5",
   "metadata": {},
   "outputs": [],
   "source": [
    "#show.internet_service_type.isnull().sum()"
   ]
  },
  {
   "cell_type": "code",
   "execution_count": null,
   "id": "216f0223",
   "metadata": {},
   "outputs": [],
   "source": [
    "#show.internet_service_type.info()"
   ]
  },
  {
   "cell_type": "code",
   "execution_count": null,
   "id": "9e2f4ef9",
   "metadata": {},
   "outputs": [],
   "source": [
    "#show.internet_service_type.describe()"
   ]
  },
  {
   "cell_type": "code",
   "execution_count": null,
   "id": "8bbae72a",
   "metadata": {},
   "outputs": [],
   "source": [
    "#show[\"phone_service\"] = show.phone_service.map({\"No\":0,\"Yes\":1}).astype(int)"
   ]
  },
  {
   "cell_type": "code",
   "execution_count": null,
   "id": "877a0d26",
   "metadata": {},
   "outputs": [],
   "source": []
  },
  {
   "cell_type": "code",
   "execution_count": null,
   "id": "0530af27",
   "metadata": {},
   "outputs": [],
   "source": [
    "#show[\"partner\"] = show.partner.map({\"No\":0,\"Yes\":1}).astype(int)"
   ]
  },
  {
   "cell_type": "code",
   "execution_count": null,
   "id": "30d80d71",
   "metadata": {},
   "outputs": [],
   "source": [
    "#show.internet_service_type.value_counts()"
   ]
  },
  {
   "cell_type": "code",
   "execution_count": null,
   "id": "c2938edd",
   "metadata": {},
   "outputs": [],
   "source": [
    "#show.internet_service_type.unique() #show NAN"
   ]
  },
  {
   "cell_type": "code",
   "execution_count": null,
   "id": "72e17cb7",
   "metadata": {},
   "outputs": [],
   "source": [
    "#show.phone_service.unique()"
   ]
  },
  {
   "cell_type": "code",
   "execution_count": null,
   "id": "402321c9",
   "metadata": {},
   "outputs": [],
   "source": [
    "#show.payment_type.value_counts()"
   ]
  },
  {
   "cell_type": "code",
   "execution_count": null,
   "id": "4adf77df",
   "metadata": {},
   "outputs": [],
   "source": [
    "#show.internet_service_type.isnull().sum()"
   ]
  },
  {
   "cell_type": "code",
   "execution_count": null,
   "id": "a2b1aa8f",
   "metadata": {},
   "outputs": [],
   "source": [
    "#Fixer = SimpleImputer(missing_values = None, strategy='most_frequent')"
   ]
  },
  {
   "cell_type": "code",
   "execution_count": null,
   "id": "71fdaa19",
   "metadata": {},
   "outputs": [],
   "source": [
    "#Fixer.fit(show[\"internet_service_type\"])"
   ]
  },
  {
   "cell_type": "code",
   "execution_count": null,
   "id": "34808313",
   "metadata": {},
   "outputs": [],
   "source": [
    "#show.internet_service_type.isnull().value_counts()"
   ]
  },
  {
   "cell_type": "code",
   "execution_count": null,
   "id": "950e63df",
   "metadata": {},
   "outputs": [],
   "source": [
    "# import seaborn as sns\n",
    "# import matplotlib.pyplot as plt\n",
    "\n",
    "\n",
    "# sns.barplot(data=validated_telco, x=\"monthly_charges\", y='churn', hue=\"senior_citizen\")\n",
    "\n",
    "# # Modify the legend labels\n",
    "# plt.legend(title='Senior Citizen', labels=['No', 'Yes'])\n",
    "\n",
    "# plt.title('Churn Rates Based on Monthly Charges and Senior Citizen Status')\n",
    "# plt.xlabel('Monthly Charges')\n",
    "# plt.ylabel('Churn')\n",
    "\n",
    "# plt.show()"
   ]
  },
  {
   "cell_type": "code",
   "execution_count": null,
   "id": "442e9951",
   "metadata": {},
   "outputs": [],
   "source": []
  },
  {
   "cell_type": "code",
   "execution_count": null,
   "id": "63f99078",
   "metadata": {},
   "outputs": [],
   "source": []
  },
  {
   "cell_type": "code",
   "execution_count": null,
   "id": "3521285d",
   "metadata": {},
   "outputs": [],
   "source": []
  }
 ],
 "metadata": {
  "kernelspec": {
   "display_name": "Python 3 (ipykernel)",
   "language": "python",
   "name": "python3"
  },
  "language_info": {
   "codemirror_mode": {
    "name": "ipython",
    "version": 3
   },
   "file_extension": ".py",
   "mimetype": "text/x-python",
   "name": "python",
   "nbconvert_exporter": "python",
   "pygments_lexer": "ipython3",
   "version": "3.11.5"
  }
 },
 "nbformat": 4,
 "nbformat_minor": 5
}
